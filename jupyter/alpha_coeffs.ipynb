{
 "cells": [
  {
   "cell_type": "code",
   "execution_count": 1,
   "id": "57264117",
   "metadata": {},
   "outputs": [],
   "source": [
    "import numpy as np\n",
    "import pandas as pd\n",
    "import sys\n",
    "import os\n",
    "import matplotlib.pyplot as plt"
   ]
  },
  {
   "cell_type": "code",
   "execution_count": 2,
   "id": "0ec9ef3f",
   "metadata": {},
   "outputs": [],
   "source": [
    "sys.path.insert(0, os.path.join(os.path.split(os.path.abspath(\"\"))[0], \"app\"))"
   ]
  },
  {
   "cell_type": "code",
   "execution_count": 3,
   "id": "a7b4be2b",
   "metadata": {},
   "outputs": [],
   "source": [
    "from preprocessing import CsvRefactorer"
   ]
  },
  {
   "cell_type": "code",
   "execution_count": 337,
   "id": "407f8f21",
   "metadata": {},
   "outputs": [],
   "source": [
    "ids_map = {\n",
    "    299: \"T1aHE\",\n",
    "    309: \"P2\",\n",
    "    315: \"T1bHE\",\n",
    "    317: \"T2bHE\",\n",
    "    319: \"T2aHE\",\n",
    "    321: \"Treactor\",\n",
    "    325: \"T2aHE1\",\n",
    "    327: \"Tair\",\n",
    "    381: \"CTF1\",\n",
    "    395: \"CTF2\",\n",
    "    396: \"CTF3\",\n",
    "    460: \"T2aHE2\",\n",
    "    461: \"T2aHE3\",\n",
    "    462: \"T2aHE4\",\n",
    "    463: \"T2aHE5\",\n",
    "    481: \"Q2\",\n",
    "    406: \"p21\",\n",
    "    407: \"p22\",\n",
    "    408: \"p23\",\n",
    "    409: \"p24\",\n",
    "}"
   ]
  },
  {
   "cell_type": "code",
   "execution_count": 4,
   "id": "4bf85604",
   "metadata": {},
   "outputs": [],
   "source": [
    "df_refacP1 = CsvRefactorer.read_csv(\"P1_second_circuit_data_060921_to_010722.csv\")\n",
    "df_refacP2 = CsvRefactorer.read_csv(\"P2_second_circuit_data_060921_to_010722.csv\")"
   ]
  },
  {
   "cell_type": "code",
   "execution_count": 348,
   "id": "d551a574",
   "metadata": {},
   "outputs": [],
   "source": [
    "ids_array1 = df_refacP1.select_by_ids(df_refacP1.ids)\n",
    "ids_array2 = df_refacP2.select_by_ids(df_refacP2.ids)"
   ]
  },
  {
   "cell_type": "code",
   "execution_count": 349,
   "id": "43974e28",
   "metadata": {},
   "outputs": [],
   "source": [
    "group1 = df_refacP1.min_frac_groupby(10, *ids_array1)\n",
    "group2 = df_refacP2.min_frac_groupby(10, *ids_array2)"
   ]
  },
  {
   "cell_type": "code",
   "execution_count": 361,
   "id": "203749d6",
   "metadata": {},
   "outputs": [],
   "source": [
    "df1 = df_refacP1.concat_dfs(group1)\n",
    "df2 = df_refacP2.concat_dfs(group2)"
   ]
  },
  {
   "cell_type": "code",
   "execution_count": 362,
   "id": "d779eb53",
   "metadata": {},
   "outputs": [],
   "source": [
    "df = pd.concat([df1, df2], axis=1).loc[\"2021-09-08\":\"2021-09-08\", :].rename(columns=ids_map)"
   ]
  },
  {
   "cell_type": "code",
   "execution_count": 363,
   "id": "cfeb6799",
   "metadata": {},
   "outputs": [],
   "source": [
    "# quick TCF categorizing ( set 0 or 1)\n",
    "\n",
    "df[\"CTF1\"] = np.where(df[\"CTF1\"] > 20, 1, 0)\n",
    "df[\"CTF2\"] = np.where(df[\"CTF2\"] > 20, 1, 0)\n",
    "df[\"CTF3\"] = np.where(df[\"CTF3\"] > 20, 1, 0)\n",
    "\n",
    "# quick I of pumps filter\n",
    "df[\"p21\"] = np.where(df[\"p21\"] < 10, 1, df[\"p21\"])\n",
    "df[\"p22\"] = np.where(df[\"p22\"] < 10, 1, df[\"p22\"])\n",
    "df[\"p23\"] = np.where(df[\"p23\"] < 10, 1, df[\"p23\"])\n",
    "df[\"p24\"] = np.where(df[\"p24\"] < 10, 1, df[\"p24\"])"
   ]
  },
  {
   "cell_type": "code",
   "execution_count": 364,
   "id": "314002a6",
   "metadata": {},
   "outputs": [],
   "source": [
    "# quick NaN handling\n",
    "\n",
    "df = df.fillna(0.0)\n",
    "zero_pressure = df[df[\"P2\"] == 0.0].index\n",
    "zero_currents = df[\n",
    "    (df[\"p21\"] == 0.0) &\n",
    "    (df[\"p22\"] == 0.0) &\n",
    "    (df[\"p23\"] == 0.0) &\n",
    "    (df[\"p24\"] == 0.0)\n",
    "].index\n",
    "# drop rows where pressure is nill\n",
    "df = df.drop(index=zero_pressure)\n",
    "df = df.drop(index=zero_currents)"
   ]
  },
  {
   "cell_type": "code",
   "execution_count": 365,
   "id": "7a719cf7",
   "metadata": {},
   "outputs": [],
   "source": [
    "pumps2 = df.loc[:, [\"p21\", \"p22\", \"p23\", \"p24\"]]\n",
    "df[\"I2mean\"] = pumps2.sum(axis=1)/3"
   ]
  },
  {
   "cell_type": "code",
   "execution_count": 366,
   "id": "80d850fc",
   "metadata": {},
   "outputs": [],
   "source": [
    "df[\"QbyIP\"] = df[\"Q2\"]/(df[\"P2\"]*df[\"I2mean\"])"
   ]
  },
  {
   "cell_type": "code",
   "execution_count": 390,
   "id": "49b9da41",
   "metadata": {},
   "outputs": [],
   "source": [
    "df[\"QbyI\"] = df[\"Q2\"]/(df[\"I2mean\"])"
   ]
  },
  {
   "cell_type": "code",
   "execution_count": 391,
   "id": "d485c592",
   "metadata": {},
   "outputs": [
    {
     "data": {
      "text/html": [
       "<div>\n",
       "<style scoped>\n",
       "    .dataframe tbody tr th:only-of-type {\n",
       "        vertical-align: middle;\n",
       "    }\n",
       "\n",
       "    .dataframe tbody tr th {\n",
       "        vertical-align: top;\n",
       "    }\n",
       "\n",
       "    .dataframe thead th {\n",
       "        text-align: right;\n",
       "    }\n",
       "</style>\n",
       "<table border=\"1\" class=\"dataframe\">\n",
       "  <thead>\n",
       "    <tr style=\"text-align: right;\">\n",
       "      <th></th>\n",
       "      <th>T1aHE</th>\n",
       "      <th>P2</th>\n",
       "      <th>T1bHE</th>\n",
       "      <th>T2bHE</th>\n",
       "      <th>T2aHE</th>\n",
       "      <th>Treactor</th>\n",
       "      <th>T2aHE1</th>\n",
       "      <th>Tair</th>\n",
       "      <th>CTF1</th>\n",
       "      <th>CTF2</th>\n",
       "      <th>...</th>\n",
       "      <th>p23</th>\n",
       "      <th>p24</th>\n",
       "      <th>T2aHE2</th>\n",
       "      <th>T2aHE3</th>\n",
       "      <th>T2aHE4</th>\n",
       "      <th>T2aHE5</th>\n",
       "      <th>I2mean</th>\n",
       "      <th>QbyIP</th>\n",
       "      <th>lmtd</th>\n",
       "      <th>QbyI</th>\n",
       "    </tr>\n",
       "    <tr>\n",
       "      <th>Timestamp</th>\n",
       "      <th></th>\n",
       "      <th></th>\n",
       "      <th></th>\n",
       "      <th></th>\n",
       "      <th></th>\n",
       "      <th></th>\n",
       "      <th></th>\n",
       "      <th></th>\n",
       "      <th></th>\n",
       "      <th></th>\n",
       "      <th></th>\n",
       "      <th></th>\n",
       "      <th></th>\n",
       "      <th></th>\n",
       "      <th></th>\n",
       "      <th></th>\n",
       "      <th></th>\n",
       "      <th></th>\n",
       "      <th></th>\n",
       "      <th></th>\n",
       "      <th></th>\n",
       "    </tr>\n",
       "  </thead>\n",
       "  <tbody>\n",
       "    <tr>\n",
       "      <th>2021-09-08 00:00:00</th>\n",
       "      <td>43.653125</td>\n",
       "      <td>0.370</td>\n",
       "      <td>50.024242</td>\n",
       "      <td>32.487879</td>\n",
       "      <td>37.890626</td>\n",
       "      <td>45.097221</td>\n",
       "      <td>6.146495</td>\n",
       "      <td>15.527027</td>\n",
       "      <td>1</td>\n",
       "      <td>0</td>\n",
       "      <td>...</td>\n",
       "      <td>148.524369</td>\n",
       "      <td>140.334813</td>\n",
       "      <td>6.194315</td>\n",
       "      <td>0.861917</td>\n",
       "      <td>4.842242</td>\n",
       "      <td>4.682022</td>\n",
       "      <td>144.619182</td>\n",
       "      <td>19.741970</td>\n",
       "      <td>10.579393</td>\n",
       "      <td>7.304529</td>\n",
       "    </tr>\n",
       "    <tr>\n",
       "      <th>2021-09-08 00:10:00</th>\n",
       "      <td>43.599998</td>\n",
       "      <td>0.370</td>\n",
       "      <td>50.000000</td>\n",
       "      <td>32.400002</td>\n",
       "      <td>37.803225</td>\n",
       "      <td>45.105263</td>\n",
       "      <td>6.196771</td>\n",
       "      <td>15.138889</td>\n",
       "      <td>1</td>\n",
       "      <td>0</td>\n",
       "      <td>...</td>\n",
       "      <td>148.441278</td>\n",
       "      <td>140.205852</td>\n",
       "      <td>6.223397</td>\n",
       "      <td>0.903460</td>\n",
       "      <td>4.864213</td>\n",
       "      <td>4.706172</td>\n",
       "      <td>144.482566</td>\n",
       "      <td>19.776069</td>\n",
       "      <td>10.627817</td>\n",
       "      <td>7.317146</td>\n",
       "    </tr>\n",
       "    <tr>\n",
       "      <th>2021-09-08 00:20:00</th>\n",
       "      <td>43.593547</td>\n",
       "      <td>0.370</td>\n",
       "      <td>49.974194</td>\n",
       "      <td>32.372728</td>\n",
       "      <td>37.799999</td>\n",
       "      <td>45.140540</td>\n",
       "      <td>6.172726</td>\n",
       "      <td>14.788889</td>\n",
       "      <td>1</td>\n",
       "      <td>0</td>\n",
       "      <td>...</td>\n",
       "      <td>148.865696</td>\n",
       "      <td>140.789417</td>\n",
       "      <td>6.219619</td>\n",
       "      <td>0.874926</td>\n",
       "      <td>4.866031</td>\n",
       "      <td>4.700573</td>\n",
       "      <td>145.003256</td>\n",
       "      <td>19.719035</td>\n",
       "      <td>10.625919</td>\n",
       "      <td>7.296043</td>\n",
       "    </tr>\n",
       "    <tr>\n",
       "      <th>2021-09-08 00:30:00</th>\n",
       "      <td>43.500000</td>\n",
       "      <td>0.370</td>\n",
       "      <td>49.903227</td>\n",
       "      <td>32.299999</td>\n",
       "      <td>37.700001</td>\n",
       "      <td>45.081081</td>\n",
       "      <td>6.200001</td>\n",
       "      <td>14.463889</td>\n",
       "      <td>1</td>\n",
       "      <td>0</td>\n",
       "      <td>...</td>\n",
       "      <td>148.875541</td>\n",
       "      <td>140.790073</td>\n",
       "      <td>6.225065</td>\n",
       "      <td>0.891723</td>\n",
       "      <td>4.862411</td>\n",
       "      <td>4.706665</td>\n",
       "      <td>144.980791</td>\n",
       "      <td>19.724421</td>\n",
       "      <td>10.631389</td>\n",
       "      <td>7.298036</td>\n",
       "    </tr>\n",
       "    <tr>\n",
       "      <th>2021-09-08 00:40:00</th>\n",
       "      <td>43.471429</td>\n",
       "      <td>0.370</td>\n",
       "      <td>49.884850</td>\n",
       "      <td>32.221213</td>\n",
       "      <td>37.641666</td>\n",
       "      <td>44.989744</td>\n",
       "      <td>6.188164</td>\n",
       "      <td>14.225714</td>\n",
       "      <td>1</td>\n",
       "      <td>0</td>\n",
       "      <td>...</td>\n",
       "      <td>148.537955</td>\n",
       "      <td>140.454496</td>\n",
       "      <td>6.243873</td>\n",
       "      <td>0.915754</td>\n",
       "      <td>4.881589</td>\n",
       "      <td>4.720378</td>\n",
       "      <td>144.670734</td>\n",
       "      <td>19.756419</td>\n",
       "      <td>10.675268</td>\n",
       "      <td>7.309875</td>\n",
       "    </tr>\n",
       "    <tr>\n",
       "      <th>...</th>\n",
       "      <td>...</td>\n",
       "      <td>...</td>\n",
       "      <td>...</td>\n",
       "      <td>...</td>\n",
       "      <td>...</td>\n",
       "      <td>...</td>\n",
       "      <td>...</td>\n",
       "      <td>...</td>\n",
       "      <td>...</td>\n",
       "      <td>...</td>\n",
       "      <td>...</td>\n",
       "      <td>...</td>\n",
       "      <td>...</td>\n",
       "      <td>...</td>\n",
       "      <td>...</td>\n",
       "      <td>...</td>\n",
       "      <td>...</td>\n",
       "      <td>...</td>\n",
       "      <td>...</td>\n",
       "      <td>...</td>\n",
       "      <td>...</td>\n",
       "    </tr>\n",
       "    <tr>\n",
       "      <th>2021-09-08 23:10:00</th>\n",
       "      <td>40.900002</td>\n",
       "      <td>0.368</td>\n",
       "      <td>47.206452</td>\n",
       "      <td>29.799999</td>\n",
       "      <td>35.190323</td>\n",
       "      <td>42.586485</td>\n",
       "      <td>6.100002</td>\n",
       "      <td>16.120000</td>\n",
       "      <td>1</td>\n",
       "      <td>1</td>\n",
       "      <td>...</td>\n",
       "      <td>149.626272</td>\n",
       "      <td>142.865319</td>\n",
       "      <td>6.300123</td>\n",
       "      <td>0.733377</td>\n",
       "      <td>4.809567</td>\n",
       "      <td>4.711133</td>\n",
       "      <td>146.111358</td>\n",
       "      <td>19.687931</td>\n",
       "      <td>10.493408</td>\n",
       "      <td>7.245159</td>\n",
       "    </tr>\n",
       "    <tr>\n",
       "      <th>2021-09-08 23:20:00</th>\n",
       "      <td>40.828571</td>\n",
       "      <td>0.366</td>\n",
       "      <td>47.200001</td>\n",
       "      <td>29.799999</td>\n",
       "      <td>35.162500</td>\n",
       "      <td>42.566666</td>\n",
       "      <td>6.096776</td>\n",
       "      <td>15.973529</td>\n",
       "      <td>1</td>\n",
       "      <td>1</td>\n",
       "      <td>...</td>\n",
       "      <td>150.168891</td>\n",
       "      <td>143.352969</td>\n",
       "      <td>6.280459</td>\n",
       "      <td>0.729186</td>\n",
       "      <td>4.788502</td>\n",
       "      <td>4.691233</td>\n",
       "      <td>146.601987</td>\n",
       "      <td>19.742312</td>\n",
       "      <td>10.458288</td>\n",
       "      <td>7.225687</td>\n",
       "    </tr>\n",
       "    <tr>\n",
       "      <th>2021-09-08 23:30:00</th>\n",
       "      <td>40.806451</td>\n",
       "      <td>0.368</td>\n",
       "      <td>47.216130</td>\n",
       "      <td>29.799999</td>\n",
       "      <td>35.182353</td>\n",
       "      <td>42.507500</td>\n",
       "      <td>6.087502</td>\n",
       "      <td>15.785714</td>\n",
       "      <td>1</td>\n",
       "      <td>1</td>\n",
       "      <td>...</td>\n",
       "      <td>149.846061</td>\n",
       "      <td>143.045034</td>\n",
       "      <td>6.281095</td>\n",
       "      <td>0.723723</td>\n",
       "      <td>4.795326</td>\n",
       "      <td>4.699170</td>\n",
       "      <td>146.358149</td>\n",
       "      <td>19.677942</td>\n",
       "      <td>10.432323</td>\n",
       "      <td>7.241483</td>\n",
       "    </tr>\n",
       "    <tr>\n",
       "      <th>2021-09-08 23:40:00</th>\n",
       "      <td>40.881251</td>\n",
       "      <td>0.366</td>\n",
       "      <td>47.221875</td>\n",
       "      <td>29.803124</td>\n",
       "      <td>35.183871</td>\n",
       "      <td>42.518919</td>\n",
       "      <td>6.090425</td>\n",
       "      <td>15.928947</td>\n",
       "      <td>1</td>\n",
       "      <td>1</td>\n",
       "      <td>...</td>\n",
       "      <td>150.063279</td>\n",
       "      <td>143.182734</td>\n",
       "      <td>6.289897</td>\n",
       "      <td>0.708638</td>\n",
       "      <td>4.804404</td>\n",
       "      <td>4.701301</td>\n",
       "      <td>146.464030</td>\n",
       "      <td>19.759043</td>\n",
       "      <td>10.488539</td>\n",
       "      <td>7.231810</td>\n",
       "    </tr>\n",
       "    <tr>\n",
       "      <th>2021-09-08 23:50:00</th>\n",
       "      <td>40.799999</td>\n",
       "      <td>0.367</td>\n",
       "      <td>47.200001</td>\n",
       "      <td>29.706452</td>\n",
       "      <td>35.099998</td>\n",
       "      <td>42.492307</td>\n",
       "      <td>6.096773</td>\n",
       "      <td>16.120000</td>\n",
       "      <td>1</td>\n",
       "      <td>1</td>\n",
       "      <td>...</td>\n",
       "      <td>150.141575</td>\n",
       "      <td>143.348132</td>\n",
       "      <td>6.320694</td>\n",
       "      <td>0.798710</td>\n",
       "      <td>4.827443</td>\n",
       "      <td>4.728204</td>\n",
       "      <td>146.665305</td>\n",
       "      <td>19.664227</td>\n",
       "      <td>10.517128</td>\n",
       "      <td>7.216772</td>\n",
       "    </tr>\n",
       "  </tbody>\n",
       "</table>\n",
       "<p>144 rows × 24 columns</p>\n",
       "</div>"
      ],
      "text/plain": [
       "                         T1aHE     P2      T1bHE      T2bHE      T2aHE  \\\n",
       "Timestamp                                                                \n",
       "2021-09-08 00:00:00  43.653125  0.370  50.024242  32.487879  37.890626   \n",
       "2021-09-08 00:10:00  43.599998  0.370  50.000000  32.400002  37.803225   \n",
       "2021-09-08 00:20:00  43.593547  0.370  49.974194  32.372728  37.799999   \n",
       "2021-09-08 00:30:00  43.500000  0.370  49.903227  32.299999  37.700001   \n",
       "2021-09-08 00:40:00  43.471429  0.370  49.884850  32.221213  37.641666   \n",
       "...                        ...    ...        ...        ...        ...   \n",
       "2021-09-08 23:10:00  40.900002  0.368  47.206452  29.799999  35.190323   \n",
       "2021-09-08 23:20:00  40.828571  0.366  47.200001  29.799999  35.162500   \n",
       "2021-09-08 23:30:00  40.806451  0.368  47.216130  29.799999  35.182353   \n",
       "2021-09-08 23:40:00  40.881251  0.366  47.221875  29.803124  35.183871   \n",
       "2021-09-08 23:50:00  40.799999  0.367  47.200001  29.706452  35.099998   \n",
       "\n",
       "                      Treactor    T2aHE1       Tair  CTF1  CTF2  ...  \\\n",
       "Timestamp                                                        ...   \n",
       "2021-09-08 00:00:00  45.097221  6.146495  15.527027     1     0  ...   \n",
       "2021-09-08 00:10:00  45.105263  6.196771  15.138889     1     0  ...   \n",
       "2021-09-08 00:20:00  45.140540  6.172726  14.788889     1     0  ...   \n",
       "2021-09-08 00:30:00  45.081081  6.200001  14.463889     1     0  ...   \n",
       "2021-09-08 00:40:00  44.989744  6.188164  14.225714     1     0  ...   \n",
       "...                        ...       ...        ...   ...   ...  ...   \n",
       "2021-09-08 23:10:00  42.586485  6.100002  16.120000     1     1  ...   \n",
       "2021-09-08 23:20:00  42.566666  6.096776  15.973529     1     1  ...   \n",
       "2021-09-08 23:30:00  42.507500  6.087502  15.785714     1     1  ...   \n",
       "2021-09-08 23:40:00  42.518919  6.090425  15.928947     1     1  ...   \n",
       "2021-09-08 23:50:00  42.492307  6.096773  16.120000     1     1  ...   \n",
       "\n",
       "                            p23         p24    T2aHE2    T2aHE3    T2aHE4  \\\n",
       "Timestamp                                                                   \n",
       "2021-09-08 00:00:00  148.524369  140.334813  6.194315  0.861917  4.842242   \n",
       "2021-09-08 00:10:00  148.441278  140.205852  6.223397  0.903460  4.864213   \n",
       "2021-09-08 00:20:00  148.865696  140.789417  6.219619  0.874926  4.866031   \n",
       "2021-09-08 00:30:00  148.875541  140.790073  6.225065  0.891723  4.862411   \n",
       "2021-09-08 00:40:00  148.537955  140.454496  6.243873  0.915754  4.881589   \n",
       "...                         ...         ...       ...       ...       ...   \n",
       "2021-09-08 23:10:00  149.626272  142.865319  6.300123  0.733377  4.809567   \n",
       "2021-09-08 23:20:00  150.168891  143.352969  6.280459  0.729186  4.788502   \n",
       "2021-09-08 23:30:00  149.846061  143.045034  6.281095  0.723723  4.795326   \n",
       "2021-09-08 23:40:00  150.063279  143.182734  6.289897  0.708638  4.804404   \n",
       "2021-09-08 23:50:00  150.141575  143.348132  6.320694  0.798710  4.827443   \n",
       "\n",
       "                       T2aHE5      I2mean      QbyIP       lmtd      QbyI  \n",
       "Timestamp                                                                  \n",
       "2021-09-08 00:00:00  4.682022  144.619182  19.741970  10.579393  7.304529  \n",
       "2021-09-08 00:10:00  4.706172  144.482566  19.776069  10.627817  7.317146  \n",
       "2021-09-08 00:20:00  4.700573  145.003256  19.719035  10.625919  7.296043  \n",
       "2021-09-08 00:30:00  4.706665  144.980791  19.724421  10.631389  7.298036  \n",
       "2021-09-08 00:40:00  4.720378  144.670734  19.756419  10.675268  7.309875  \n",
       "...                       ...         ...        ...        ...       ...  \n",
       "2021-09-08 23:10:00  4.711133  146.111358  19.687931  10.493408  7.245159  \n",
       "2021-09-08 23:20:00  4.691233  146.601987  19.742312  10.458288  7.225687  \n",
       "2021-09-08 23:30:00  4.699170  146.358149  19.677942  10.432323  7.241483  \n",
       "2021-09-08 23:40:00  4.701301  146.464030  19.759043  10.488539  7.231810  \n",
       "2021-09-08 23:50:00  4.728204  146.665305  19.664227  10.517128  7.216772  \n",
       "\n",
       "[144 rows x 24 columns]"
      ]
     },
     "execution_count": 391,
     "metadata": {},
     "output_type": "execute_result"
    }
   ],
   "source": [
    "df"
   ]
  },
  {
   "cell_type": "code",
   "execution_count": 368,
   "id": "1d81f839",
   "metadata": {},
   "outputs": [],
   "source": [
    "from analytics import WaterFlowRates\n",
    "wfr = WaterFlowRates(0.05)"
   ]
  },
  {
   "cell_type": "code",
   "execution_count": 371,
   "id": "cda30bcb",
   "metadata": {},
   "outputs": [],
   "source": [
    "df, _ = wfr.df_md_filter(df, \"QbyIP\")"
   ]
  },
  {
   "cell_type": "code",
   "execution_count": 395,
   "id": "6e98ef1b",
   "metadata": {},
   "outputs": [
    {
     "name": "stdout",
     "output_type": "stream",
     "text": [
      "19.692301668435437\n"
     ]
    },
    {
     "data": {
      "image/png": "[encoded data removed]",
      "text/plain": [
       "<Figure size 640x480 with 1 Axes>"
      ]
     },
     "metadata": {},
     "output_type": "display_data"
    }
   ],
   "source": [
    "plt.plot(df[\"QbyIP\"])\n",
    "print(df[\"QbyIP\"].mean())"
   ]
  },
  {
   "cell_type": "code",
   "execution_count": 394,
   "id": "f473a586",
   "metadata": {},
   "outputs": [
    {
     "data": {
      "text/plain": [
       "[<matplotlib.lines.Line2D at 0x7f88ee2266b0>]"
      ]
     },
     "execution_count": 394,
     "metadata": {},
     "output_type": "execute_result"
    },
    {
     "data": {
      "image/png": "[encoded data removed]",
      "text/plain": [
       "<Figure size 640x480 with 1 Axes>"
      ]
     },
     "metadata": {},
     "output_type": "display_data"
    }
   ],
   "source": [
    "plt.plot(df[\"QbyI\"])"
   ]
  },
  {
   "cell_type": "code",
   "execution_count": 374,
   "id": "44249121",
   "metadata": {},
   "outputs": [],
   "source": [
    "df[\"lmtd\"] = (df[\"T1aHE\"] - df[\"T2aHE\"] - (df[\"T1bHE\"] - df[\"T2bHE\"]))/np.log((df[\"T1aHE\"] - df[\"T2aHE\"])/(df[\"T1bHE\"] - df[\"T2bHE\"]))"
   ]
  },
  {
   "cell_type": "code",
   "execution_count": 375,
   "id": "95b24ba8",
   "metadata": {},
   "outputs": [],
   "source": [
    "df.loc[:,[\"T2aHE1\", \"T2aHE2\", \"T2aHE3\", \"T2aHE4\", \"T2aHE5\"]] = df\\\n",
    "    .loc[:, [\"T2aHE1\", \"T2aHE2\", \"T2aHE3\", \"T2aHE4\", \"T2aHE5\"]]\\\n",
    "    .apply(lambda x: x - df[\"T2bHE\"])"
   ]
  },
  {
   "cell_type": "code",
   "execution_count": 540,
   "id": "d4a002a2",
   "metadata": {},
   "outputs": [
    {
     "data": {
      "text/plain": [
       "array([5.96896338, 6.11673807, 4.71698762, 4.5803484 ])"
      ]
     },
     "execution_count": 540,
     "metadata": {},
     "output_type": "execute_result"
    }
   ],
   "source": [
    "T2_mean = (df[\"T2aHE\"] - df[\"T2bHE\"]).mean(axis=0)\n",
    "T2aHE_arr = df.loc[:, [\"T2aHE1\", \"T2aHE2\", \"T2aHE4\", \"T2aHE5\"]].mean(axis=0).to_numpy()\n",
    "T2aHE_arr"
   ]
  },
  {
   "cell_type": "code",
   "execution_count": 529,
   "id": "365cfa0a",
   "metadata": {},
   "outputs": [],
   "source": [
    "T2_mean_arr = np.array(T2_mean)\n",
    "\n",
    "T2_mean_arr = np.full((len(T2aHE_arr),1), T2_mean)"
   ]
  },
  {
   "cell_type": "code",
   "execution_count": 530,
   "id": "b7f636b4",
   "metadata": {},
   "outputs": [
    {
     "data": {
      "text/plain": [
       "array([0.87819113, 0.85697486, 1.1112793 , 1.14443057])"
      ]
     },
     "execution_count": 530,
     "metadata": {},
     "output_type": "execute_result"
    }
   ],
   "source": [
    "t_coefs = T2_mean/T2aHE_arr\n",
    "t_coefs"
   ]
  },
  {
   "cell_type": "code",
   "execution_count": 534,
   "id": "95a97719",
   "metadata": {},
   "outputs": [
    {
     "data": {
      "text/plain": [
       "array([0.87819113, 0.85697486, 0.98412708, 1.1112793 , 1.14443057])"
      ]
     },
     "execution_count": 534,
     "metadata": {},
     "output_type": "execute_result"
    }
   ],
   "source": [
    "X_interp = [1,2,4,5]\n",
    "t3 = np.interp(3, X_interp, t_coefs)\n",
    "t_coefs = np.array([*t_coefs[:2], t3, *t_coefs[2:]])\n",
    "t_coefs"
   ]
  },
  {
   "cell_type": "code",
   "execution_count": 548,
   "id": "cdfa5d57",
   "metadata": {},
   "outputs": [
    {
     "data": {
      "text/plain": [
       "T2aHE1    9.534656\n",
       "T2aHE2    9.534656\n",
       "T2aHE3    1.414128\n",
       "T2aHE4    9.534656\n",
       "T2aHE5    9.534656\n",
       "dtype: float64"
      ]
     },
     "execution_count": 548,
     "metadata": {},
     "output_type": "execute_result"
    }
   ],
   "source": [
    "df[\"QbyI\"].mean()/4/t_coefs*(df[\"T2aHE\"] - df[\"T2bHE\"]).mean(axis=0)\n",
    "N_norm = (df[\"QbyI\"].mean()/4*t_coefs*(df.loc[:, [\"T2aHE1\", \"T2aHE2\", \"T2aHE3\", \"T2aHE4\", \"T2aHE5\"]]).mean(axis=0)).sum()\n",
    "# df[\"QbyI\"].mean()/4/t_coefs[::-1]*(df[\"T2aHE\"] - df[\"T2bHE\"]).mean(axis=0)\n",
    "df[\"QbyI\"].mean()/4*t_coefs*(df.loc[:, [\"T2aHE1\", \"T2aHE2\", \"T2aHE3\", \"T2aHE4\", \"T2aHE5\"]]).mean(axis=0)"
   ]
  },
  {
   "cell_type": "code",
   "execution_count": 549,
   "id": "5d2f8192",
   "metadata": {},
   "outputs": [],
   "source": [
    "N_mean = df[\"QbyI\"].mean(axis=0)*T2_mean"
   ]
  },
  {
   "cell_type": "code",
   "execution_count": 550,
   "id": "ea4b7ad8",
   "metadata": {},
   "outputs": [
    {
     "data": {
      "text/plain": [
       "(39.55275237208134, 38.1386245770327)"
      ]
     },
     "execution_count": 550,
     "metadata": {},
     "output_type": "execute_result"
    }
   ],
   "source": [
    "N_norm, N_mean"
   ]
  },
  {
   "cell_type": "code",
   "execution_count": 479,
   "id": "1e84d0b0",
   "metadata": {},
   "outputs": [
    {
     "data": {
      "text/plain": [
       "5.241890720468172"
      ]
     },
     "execution_count": 479,
     "metadata": {},
     "output_type": "execute_result"
    }
   ],
   "source": [
    "T2aHE_means = df.loc[:, [\"T2aHE1\", \"T2aHE2\", \"T2aHE3\", \"T2aHE4\", \"T2aHE5\"]].mean(axis=0)\n",
    "T2_mean"
   ]
  },
  {
   "cell_type": "code",
   "execution_count": 378,
   "id": "891489f7",
   "metadata": {},
   "outputs": [
    {
     "data": {
      "text/plain": [
       "(T2aHE1    5.968963\n",
       " T2aHE2    6.116738\n",
       " T2aHE3    0.789988\n",
       " T2aHE4    4.716988\n",
       " T2aHE5    4.580348\n",
       " dtype: float64,\n",
       " 4.43460506013753,\n",
       " 5.345759366364538)"
      ]
     },
     "execution_count": 378,
     "metadata": {},
     "output_type": "execute_result"
    }
   ],
   "source": [
    "T2aHE_means, T2aHE_means.mean(), df.loc[:, [\"T2aHE1\", \"T2aHE2\", \"T2aHE4\", \"T2aHE5\"]].mean(axis=0).mean()"
   ]
  },
  {
   "cell_type": "code",
   "execution_count": 312,
   "id": "af673e84",
   "metadata": {},
   "outputs": [
    {
     "data": {
      "text/plain": [
       "<BarContainer object of 5 artists>"
      ]
     },
     "execution_count": 312,
     "metadata": {},
     "output_type": "execute_result"
    },
    {
     "data": {
      "image/png": "[encoded data removed]",
      "text/plain": [
       "<Figure size 640x480 with 1 Axes>"
      ]
     },
     "metadata": {},
     "output_type": "display_data"
    }
   ],
   "source": [
    "# the 3d is broken so dt cannot be used to get ki\n",
    "plt.bar(T2aHE_means.index, T2aHE_means)"
   ]
  },
  {
   "cell_type": "code",
   "execution_count": 313,
   "id": "1870eb04",
   "metadata": {},
   "outputs": [],
   "source": [
    "# lets get dt on 3d HE by interpolation between HE2 and HE4"
   ]
  },
  {
   "cell_type": "code",
   "execution_count": 314,
   "id": "fc6fab22",
   "metadata": {},
   "outputs": [],
   "source": []
  },
  {
   "cell_type": "code",
   "execution_count": 315,
   "id": "e2acbd54",
   "metadata": {},
   "outputs": [
    {
     "data": {
      "text/plain": [
       "<BarContainer object of 5 artists>"
      ]
     },
     "execution_count": 315,
     "metadata": {},
     "output_type": "execute_result"
    },
    {
     "data": {
      "image/png": "[encoded data removed]",
      "text/plain": [
       "<Figure size 640x480 with 1 Axes>"
      ]
     },
     "metadata": {},
     "output_type": "display_data"
    }
   ],
   "source": [
    "y_interp = [4.65, 4.855, y3, 3.852, 3.675]\n",
    "plt.bar(T2aHE_means.index, y_interp)"
   ]
  },
  {
   "cell_type": "code",
   "execution_count": 379,
   "id": "05611748",
   "metadata": {},
   "outputs": [
    {
     "data": {
      "text/html": [
       "<div>\n",
       "<style scoped>\n",
       "    .dataframe tbody tr th:only-of-type {\n",
       "        vertical-align: middle;\n",
       "    }\n",
       "\n",
       "    .dataframe tbody tr th {\n",
       "        vertical-align: top;\n",
       "    }\n",
       "\n",
       "    .dataframe thead th {\n",
       "        text-align: right;\n",
       "    }\n",
       "</style>\n",
       "<table border=\"1\" class=\"dataframe\">\n",
       "  <thead>\n",
       "    <tr style=\"text-align: right;\">\n",
       "      <th></th>\n",
       "      <th>T1aHE</th>\n",
       "      <th>P2</th>\n",
       "      <th>T1bHE</th>\n",
       "      <th>T2bHE</th>\n",
       "      <th>T2aHE</th>\n",
       "      <th>Treactor</th>\n",
       "      <th>T2aHE1</th>\n",
       "      <th>Tair</th>\n",
       "      <th>CTF1</th>\n",
       "      <th>CTF2</th>\n",
       "      <th>...</th>\n",
       "      <th>p22</th>\n",
       "      <th>p23</th>\n",
       "      <th>p24</th>\n",
       "      <th>T2aHE2</th>\n",
       "      <th>T2aHE3</th>\n",
       "      <th>T2aHE4</th>\n",
       "      <th>T2aHE5</th>\n",
       "      <th>I2mean</th>\n",
       "      <th>QbyIP</th>\n",
       "      <th>lmtd</th>\n",
       "    </tr>\n",
       "    <tr>\n",
       "      <th>Timestamp</th>\n",
       "      <th></th>\n",
       "      <th></th>\n",
       "      <th></th>\n",
       "      <th></th>\n",
       "      <th></th>\n",
       "      <th></th>\n",
       "      <th></th>\n",
       "      <th></th>\n",
       "      <th></th>\n",
       "      <th></th>\n",
       "      <th></th>\n",
       "      <th></th>\n",
       "      <th></th>\n",
       "      <th></th>\n",
       "      <th></th>\n",
       "      <th></th>\n",
       "      <th></th>\n",
       "      <th></th>\n",
       "      <th></th>\n",
       "      <th></th>\n",
       "      <th></th>\n",
       "    </tr>\n",
       "  </thead>\n",
       "  <tbody>\n",
       "    <tr>\n",
       "      <th>2021-09-08 00:00:00</th>\n",
       "      <td>43.653125</td>\n",
       "      <td>0.370</td>\n",
       "      <td>50.024242</td>\n",
       "      <td>32.487879</td>\n",
       "      <td>37.890626</td>\n",
       "      <td>45.097221</td>\n",
       "      <td>6.146495</td>\n",
       "      <td>15.527027</td>\n",
       "      <td>1</td>\n",
       "      <td>0</td>\n",
       "      <td>...</td>\n",
       "      <td>144.998365</td>\n",
       "      <td>148.524369</td>\n",
       "      <td>140.334813</td>\n",
       "      <td>6.194315</td>\n",
       "      <td>0.861917</td>\n",
       "      <td>4.842242</td>\n",
       "      <td>4.682022</td>\n",
       "      <td>144.619182</td>\n",
       "      <td>19.741970</td>\n",
       "      <td>10.579393</td>\n",
       "    </tr>\n",
       "    <tr>\n",
       "      <th>2021-09-08 00:10:00</th>\n",
       "      <td>43.599998</td>\n",
       "      <td>0.370</td>\n",
       "      <td>50.000000</td>\n",
       "      <td>32.400002</td>\n",
       "      <td>37.803225</td>\n",
       "      <td>45.105263</td>\n",
       "      <td>6.196771</td>\n",
       "      <td>15.138889</td>\n",
       "      <td>1</td>\n",
       "      <td>0</td>\n",
       "      <td>...</td>\n",
       "      <td>144.800569</td>\n",
       "      <td>148.441278</td>\n",
       "      <td>140.205852</td>\n",
       "      <td>6.223397</td>\n",
       "      <td>0.903460</td>\n",
       "      <td>4.864213</td>\n",
       "      <td>4.706172</td>\n",
       "      <td>144.482566</td>\n",
       "      <td>19.776069</td>\n",
       "      <td>10.627817</td>\n",
       "    </tr>\n",
       "    <tr>\n",
       "      <th>2021-09-08 00:20:00</th>\n",
       "      <td>43.593547</td>\n",
       "      <td>0.370</td>\n",
       "      <td>49.974194</td>\n",
       "      <td>32.372728</td>\n",
       "      <td>37.799999</td>\n",
       "      <td>45.140540</td>\n",
       "      <td>6.172726</td>\n",
       "      <td>14.788889</td>\n",
       "      <td>1</td>\n",
       "      <td>0</td>\n",
       "      <td>...</td>\n",
       "      <td>145.354654</td>\n",
       "      <td>148.865696</td>\n",
       "      <td>140.789417</td>\n",
       "      <td>6.219619</td>\n",
       "      <td>0.874926</td>\n",
       "      <td>4.866031</td>\n",
       "      <td>4.700573</td>\n",
       "      <td>145.003256</td>\n",
       "      <td>19.719035</td>\n",
       "      <td>10.625919</td>\n",
       "    </tr>\n",
       "    <tr>\n",
       "      <th>2021-09-08 00:30:00</th>\n",
       "      <td>43.500000</td>\n",
       "      <td>0.370</td>\n",
       "      <td>49.903227</td>\n",
       "      <td>32.299999</td>\n",
       "      <td>37.700001</td>\n",
       "      <td>45.081081</td>\n",
       "      <td>6.200001</td>\n",
       "      <td>14.463889</td>\n",
       "      <td>1</td>\n",
       "      <td>0</td>\n",
       "      <td>...</td>\n",
       "      <td>145.276761</td>\n",
       "      <td>148.875541</td>\n",
       "      <td>140.790073</td>\n",
       "      <td>6.225065</td>\n",
       "      <td>0.891723</td>\n",
       "      <td>4.862411</td>\n",
       "      <td>4.706665</td>\n",
       "      <td>144.980791</td>\n",
       "      <td>19.724421</td>\n",
       "      <td>10.631389</td>\n",
       "    </tr>\n",
       "    <tr>\n",
       "      <th>2021-09-08 00:40:00</th>\n",
       "      <td>43.471429</td>\n",
       "      <td>0.370</td>\n",
       "      <td>49.884850</td>\n",
       "      <td>32.221213</td>\n",
       "      <td>37.641666</td>\n",
       "      <td>44.989744</td>\n",
       "      <td>6.188164</td>\n",
       "      <td>14.225714</td>\n",
       "      <td>1</td>\n",
       "      <td>0</td>\n",
       "      <td>...</td>\n",
       "      <td>145.019750</td>\n",
       "      <td>148.537955</td>\n",
       "      <td>140.454496</td>\n",
       "      <td>6.243873</td>\n",
       "      <td>0.915754</td>\n",
       "      <td>4.881589</td>\n",
       "      <td>4.720378</td>\n",
       "      <td>144.670734</td>\n",
       "      <td>19.756419</td>\n",
       "      <td>10.675268</td>\n",
       "    </tr>\n",
       "    <tr>\n",
       "      <th>...</th>\n",
       "      <td>...</td>\n",
       "      <td>...</td>\n",
       "      <td>...</td>\n",
       "      <td>...</td>\n",
       "      <td>...</td>\n",
       "      <td>...</td>\n",
       "      <td>...</td>\n",
       "      <td>...</td>\n",
       "      <td>...</td>\n",
       "      <td>...</td>\n",
       "      <td>...</td>\n",
       "      <td>...</td>\n",
       "      <td>...</td>\n",
       "      <td>...</td>\n",
       "      <td>...</td>\n",
       "      <td>...</td>\n",
       "      <td>...</td>\n",
       "      <td>...</td>\n",
       "      <td>...</td>\n",
       "      <td>...</td>\n",
       "      <td>...</td>\n",
       "    </tr>\n",
       "    <tr>\n",
       "      <th>2021-09-08 23:10:00</th>\n",
       "      <td>40.900002</td>\n",
       "      <td>0.368</td>\n",
       "      <td>47.206452</td>\n",
       "      <td>29.799999</td>\n",
       "      <td>35.190323</td>\n",
       "      <td>42.586485</td>\n",
       "      <td>6.100002</td>\n",
       "      <td>16.120000</td>\n",
       "      <td>1</td>\n",
       "      <td>1</td>\n",
       "      <td>...</td>\n",
       "      <td>145.842484</td>\n",
       "      <td>149.626272</td>\n",
       "      <td>142.865319</td>\n",
       "      <td>6.300123</td>\n",
       "      <td>0.733377</td>\n",
       "      <td>4.809567</td>\n",
       "      <td>4.711133</td>\n",
       "      <td>146.111358</td>\n",
       "      <td>19.687931</td>\n",
       "      <td>10.493408</td>\n",
       "    </tr>\n",
       "    <tr>\n",
       "      <th>2021-09-08 23:20:00</th>\n",
       "      <td>40.828571</td>\n",
       "      <td>0.366</td>\n",
       "      <td>47.200001</td>\n",
       "      <td>29.799999</td>\n",
       "      <td>35.162500</td>\n",
       "      <td>42.566666</td>\n",
       "      <td>6.096776</td>\n",
       "      <td>15.973529</td>\n",
       "      <td>1</td>\n",
       "      <td>1</td>\n",
       "      <td>...</td>\n",
       "      <td>146.284100</td>\n",
       "      <td>150.168891</td>\n",
       "      <td>143.352969</td>\n",
       "      <td>6.280459</td>\n",
       "      <td>0.729186</td>\n",
       "      <td>4.788502</td>\n",
       "      <td>4.691233</td>\n",
       "      <td>146.601987</td>\n",
       "      <td>19.742312</td>\n",
       "      <td>10.458288</td>\n",
       "    </tr>\n",
       "    <tr>\n",
       "      <th>2021-09-08 23:30:00</th>\n",
       "      <td>40.806451</td>\n",
       "      <td>0.368</td>\n",
       "      <td>47.216130</td>\n",
       "      <td>29.799999</td>\n",
       "      <td>35.182353</td>\n",
       "      <td>42.507500</td>\n",
       "      <td>6.087502</td>\n",
       "      <td>15.785714</td>\n",
       "      <td>1</td>\n",
       "      <td>1</td>\n",
       "      <td>...</td>\n",
       "      <td>146.183352</td>\n",
       "      <td>149.846061</td>\n",
       "      <td>143.045034</td>\n",
       "      <td>6.281095</td>\n",
       "      <td>0.723723</td>\n",
       "      <td>4.795326</td>\n",
       "      <td>4.699170</td>\n",
       "      <td>146.358149</td>\n",
       "      <td>19.677942</td>\n",
       "      <td>10.432323</td>\n",
       "    </tr>\n",
       "    <tr>\n",
       "      <th>2021-09-08 23:40:00</th>\n",
       "      <td>40.881251</td>\n",
       "      <td>0.366</td>\n",
       "      <td>47.221875</td>\n",
       "      <td>29.803124</td>\n",
       "      <td>35.183871</td>\n",
       "      <td>42.518919</td>\n",
       "      <td>6.090425</td>\n",
       "      <td>15.928947</td>\n",
       "      <td>1</td>\n",
       "      <td>1</td>\n",
       "      <td>...</td>\n",
       "      <td>146.146078</td>\n",
       "      <td>150.063279</td>\n",
       "      <td>143.182734</td>\n",
       "      <td>6.289897</td>\n",
       "      <td>0.708638</td>\n",
       "      <td>4.804404</td>\n",
       "      <td>4.701301</td>\n",
       "      <td>146.464030</td>\n",
       "      <td>19.759043</td>\n",
       "      <td>10.488539</td>\n",
       "    </tr>\n",
       "    <tr>\n",
       "      <th>2021-09-08 23:50:00</th>\n",
       "      <td>40.799999</td>\n",
       "      <td>0.367</td>\n",
       "      <td>47.200001</td>\n",
       "      <td>29.706452</td>\n",
       "      <td>35.099998</td>\n",
       "      <td>42.492307</td>\n",
       "      <td>6.096773</td>\n",
       "      <td>16.120000</td>\n",
       "      <td>1</td>\n",
       "      <td>1</td>\n",
       "      <td>...</td>\n",
       "      <td>146.506207</td>\n",
       "      <td>150.141575</td>\n",
       "      <td>143.348132</td>\n",
       "      <td>6.320694</td>\n",
       "      <td>0.798710</td>\n",
       "      <td>4.827443</td>\n",
       "      <td>4.728204</td>\n",
       "      <td>146.665305</td>\n",
       "      <td>19.664227</td>\n",
       "      <td>10.517128</td>\n",
       "    </tr>\n",
       "  </tbody>\n",
       "</table>\n",
       "<p>144 rows × 23 columns</p>\n",
       "</div>"
      ],
      "text/plain": [
       "                         T1aHE     P2      T1bHE      T2bHE      T2aHE  \\\n",
       "Timestamp                                                                \n",
       "2021-09-08 00:00:00  43.653125  0.370  50.024242  32.487879  37.890626   \n",
       "2021-09-08 00:10:00  43.599998  0.370  50.000000  32.400002  37.803225   \n",
       "2021-09-08 00:20:00  43.593547  0.370  49.974194  32.372728  37.799999   \n",
       "2021-09-08 00:30:00  43.500000  0.370  49.903227  32.299999  37.700001   \n",
       "2021-09-08 00:40:00  43.471429  0.370  49.884850  32.221213  37.641666   \n",
       "...                        ...    ...        ...        ...        ...   \n",
       "2021-09-08 23:10:00  40.900002  0.368  47.206452  29.799999  35.190323   \n",
       "2021-09-08 23:20:00  40.828571  0.366  47.200001  29.799999  35.162500   \n",
       "2021-09-08 23:30:00  40.806451  0.368  47.216130  29.799999  35.182353   \n",
       "2021-09-08 23:40:00  40.881251  0.366  47.221875  29.803124  35.183871   \n",
       "2021-09-08 23:50:00  40.799999  0.367  47.200001  29.706452  35.099998   \n",
       "\n",
       "                      Treactor    T2aHE1       Tair  CTF1  CTF2  ...  \\\n",
       "Timestamp                                                        ...   \n",
       "2021-09-08 00:00:00  45.097221  6.146495  15.527027     1     0  ...   \n",
       "2021-09-08 00:10:00  45.105263  6.196771  15.138889     1     0  ...   \n",
       "2021-09-08 00:20:00  45.140540  6.172726  14.788889     1     0  ...   \n",
       "2021-09-08 00:30:00  45.081081  6.200001  14.463889     1     0  ...   \n",
       "2021-09-08 00:40:00  44.989744  6.188164  14.225714     1     0  ...   \n",
       "...                        ...       ...        ...   ...   ...  ...   \n",
       "2021-09-08 23:10:00  42.586485  6.100002  16.120000     1     1  ...   \n",
       "2021-09-08 23:20:00  42.566666  6.096776  15.973529     1     1  ...   \n",
       "2021-09-08 23:30:00  42.507500  6.087502  15.785714     1     1  ...   \n",
       "2021-09-08 23:40:00  42.518919  6.090425  15.928947     1     1  ...   \n",
       "2021-09-08 23:50:00  42.492307  6.096773  16.120000     1     1  ...   \n",
       "\n",
       "                            p22         p23         p24    T2aHE2    T2aHE3  \\\n",
       "Timestamp                                                                     \n",
       "2021-09-08 00:00:00  144.998365  148.524369  140.334813  6.194315  0.861917   \n",
       "2021-09-08 00:10:00  144.800569  148.441278  140.205852  6.223397  0.903460   \n",
       "2021-09-08 00:20:00  145.354654  148.865696  140.789417  6.219619  0.874926   \n",
       "2021-09-08 00:30:00  145.276761  148.875541  140.790073  6.225065  0.891723   \n",
       "2021-09-08 00:40:00  145.019750  148.537955  140.454496  6.243873  0.915754   \n",
       "...                         ...         ...         ...       ...       ...   \n",
       "2021-09-08 23:10:00  145.842484  149.626272  142.865319  6.300123  0.733377   \n",
       "2021-09-08 23:20:00  146.284100  150.168891  143.352969  6.280459  0.729186   \n",
       "2021-09-08 23:30:00  146.183352  149.846061  143.045034  6.281095  0.723723   \n",
       "2021-09-08 23:40:00  146.146078  150.063279  143.182734  6.289897  0.708638   \n",
       "2021-09-08 23:50:00  146.506207  150.141575  143.348132  6.320694  0.798710   \n",
       "\n",
       "                       T2aHE4    T2aHE5      I2mean      QbyIP       lmtd  \n",
       "Timestamp                                                                  \n",
       "2021-09-08 00:00:00  4.842242  4.682022  144.619182  19.741970  10.579393  \n",
       "2021-09-08 00:10:00  4.864213  4.706172  144.482566  19.776069  10.627817  \n",
       "2021-09-08 00:20:00  4.866031  4.700573  145.003256  19.719035  10.625919  \n",
       "2021-09-08 00:30:00  4.862411  4.706665  144.980791  19.724421  10.631389  \n",
       "2021-09-08 00:40:00  4.881589  4.720378  144.670734  19.756419  10.675268  \n",
       "...                       ...       ...         ...        ...        ...  \n",
       "2021-09-08 23:10:00  4.809567  4.711133  146.111358  19.687931  10.493408  \n",
       "2021-09-08 23:20:00  4.788502  4.691233  146.601987  19.742312  10.458288  \n",
       "2021-09-08 23:30:00  4.795326  4.699170  146.358149  19.677942  10.432323  \n",
       "2021-09-08 23:40:00  4.804404  4.701301  146.464030  19.759043  10.488539  \n",
       "2021-09-08 23:50:00  4.827443  4.728204  146.665305  19.664227  10.517128  \n",
       "\n",
       "[144 rows x 23 columns]"
      ]
     },
     "execution_count": 379,
     "metadata": {},
     "output_type": "execute_result"
    }
   ],
   "source": []
  },
  {
   "cell_type": "code",
   "execution_count": 384,
   "id": "60564e74",
   "metadata": {},
   "outputs": [],
   "source": [
    "t_coefs = T2aHE_means/(df[\"T2aHE\"] - df[\"T2bHE\"]).mean()"
   ]
  },
  {
   "cell_type": "code",
   "execution_count": 389,
   "id": "f7956108",
   "metadata": {},
   "outputs": [
    {
     "data": {
      "text/plain": [
       "(T2aHE1    22.423708\n",
       " T2aHE2    22.978856\n",
       " T2aHE3     2.967761\n",
       " T2aHE4    17.720389\n",
       " T2aHE5    17.207074\n",
       " dtype: float64,\n",
       " 20.08250680966365,\n",
       " 19.692301668435437)"
      ]
     },
     "execution_count": 389,
     "metadata": {},
     "output_type": "execute_result"
    }
   ],
   "source": [
    "df[\"QbyIP\"].mean()*t_coefs, (df[\"QbyIP\"].mean()*t_coefs.drop(\"T2aHE3\")).mean(), df[\"QbyIP\"].mean()"
   ]
  },
  {
   "cell_type": "code",
   "execution_count": null,
   "id": "4bc0522e",
   "metadata": {},
   "outputs": [],
   "source": []
  }
 ],
 "metadata": {
  "kernelspec": {
   "display_name": "Python 3 (ipykernel)",
   "language": "python",
   "name": "python3"
  },
  "language_info": {
   "codemirror_mode": {
    "name": "ipython",
    "version": 3
   },
   "file_extension": ".py",
   "mimetype": "text/x-python",
   "name": "python",
   "nbconvert_exporter": "python",
   "pygments_lexer": "ipython3",
   "version": "3.10.0"
  }
 },
 "nbformat": 4,
 "nbformat_minor": 5
}
