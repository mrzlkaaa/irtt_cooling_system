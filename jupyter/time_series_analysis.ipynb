{
 "cells": [
  {
   "cell_type": "code",
   "execution_count": 1,
   "id": "26747647",
   "metadata": {},
   "outputs": [],
   "source": [
    "import numpy as np\n",
    "import pandas as pd\n",
    "import matplotlib.pyplot as plt\n",
    "import os\n",
    "import sys"
   ]
  },
  {
   "cell_type": "markdown",
   "id": "5aec96cf",
   "metadata": {},
   "source": [
    " ### time_periods = [(\"2022-10-17\", \"2022-10-21\"), (\"2022-11-08\",\"2022-11-11\"), (\"2022-11-15\",\"2022-11-18\"),\n",
    " ###          (\"2022-11-22\",\"2022-11-25\"), (\"2022-11-29\",\"2022-12-02\"), (\"2022-12-05\",\"2022-12-09\"), \n",
    " ###          (\"2022-12-12\",\"2022-12-16\"), (\"2022-12-19\",\"2022-12-23\")]"
   ]
  },
  {
   "cell_type": "code",
   "execution_count": 2,
   "id": "23e7f150",
   "metadata": {},
   "outputs": [],
   "source": [
    "time_periods = [(\"2022-10-17\", \"2022-10-21\"), (\"2022-11-08\",\"2022-11-11\"), (\"2022-11-15\",\"2022-11-18\"),\n",
    "           (\"2022-11-22\",\"2022-11-25\"), (\"2022-11-29\",\"2022-12-02\"), (\"2022-12-05\",\"2022-12-09\"), \n",
    "           (\"2022-12-12\",\"2022-12-16\"), (\"2022-12-19\",\"2022-12-23\")]"
   ]
  },
  {
   "cell_type": "markdown",
   "id": "25181e30",
   "metadata": {},
   "source": [
    "* 299 Т1к после ТО\n",
    "* 307 P1контура\n",
    "* 309 Р2контура\n",
    "* 313 Рградирни\n",
    "* 315 Т1к перед ТО\n",
    "* 317 Т2к перед ТО\n",
    "* 319 Т2к после ТО\n",
    "* 325 Т2к выхТО1\n",
    "* 327 Твозвуха\n",
    "* 381 Iвг1\n",
    "* 395 Iвг2\n",
    "* 396 Iвг3\n",
    "* 460 Т2к выхТО2\n",
    "* 461 Т2к выхТО3\n",
    "* 462 Т2к выхТО4\n",
    "* 463 Т2к выхТО5\n",
    "* 480 Q1контура\n",
    "* 481 Q2контура\n",
    "#### Second loop pumps id\n",
    "* 406 2-1\n",
    "* 407 2-2\n",
    "* 408 2-3\n",
    "* 409 2-4"
   ]
  },
  {
   "cell_type": "code",
   "execution_count": 3,
   "id": "41f7b203",
   "metadata": {},
   "outputs": [],
   "source": [
    "# name conventions \n",
    "# df_2loop_fin - df of 2nd loop (P, Q, Temperatures). Fin stands for status of dataframe"
   ]
  },
  {
   "cell_type": "code",
   "execution_count": 4,
   "id": "40520149",
   "metadata": {},
   "outputs": [],
   "source": [
    "sys.path.insert(0, os.path.join(os.path.split(os.path.abspath(\"\"))[0], \"app\"))"
   ]
  },
  {
   "cell_type": "code",
   "execution_count": 5,
   "id": "aab52f44",
   "metadata": {},
   "outputs": [],
   "source": [
    "from preprocessing import CsvRefactorer"
   ]
  },
  {
   "cell_type": "code",
   "execution_count": 6,
   "id": "581f67e1",
   "metadata": {},
   "outputs": [],
   "source": [
    "# load and read csvs\n",
    "df_refac = CsvRefactorer.read_csv(\"041022_to_231222.csv\")\n",
    "df_refac_pumps = CsvRefactorer.read_csv(\"I_pumps_200921_to_231222.csv\", index_range=(\"041022\", \"231222\"))"
   ]
  },
  {
   "cell_type": "code",
   "execution_count": 8,
   "id": "c5530b50",
   "metadata": {},
   "outputs": [
    {
     "data": {
      "text/plain": [
       "array([299, 307, 309, 313, 315, 317, 319, 325, 327, 381, 395, 396, 460,\n",
       "       461, 462, 463, 480, 481])"
      ]
     },
     "execution_count": 8,
     "metadata": {},
     "output_type": "execute_result"
    }
   ],
   "source": [
    "# get all ids\n",
    "ids = df_refac.df[\"ID\"].unique()\n",
    "ids_pumpms = df_refac_pumps.df[\"ID\"].unique()\n",
    "ids"
   ]
  },
  {
   "cell_type": "code",
   "execution_count": 9,
   "id": "52a69a2f",
   "metadata": {},
   "outputs": [],
   "source": [
    "# select by ids\n",
    "df_2loop_ids = df_refac.select_by_ids([309, 317, 319, 327, 481])\n",
    "df_pump_1_id = df_refac_pumps.select_by_ids([406])\n",
    "df_pump_2_id = df_refac_pumps.select_by_ids([407])\n",
    "df_pump_3_id = df_refac_pumps.select_by_ids([408])\n",
    "df_pump_4_id = df_refac_pumps.select_by_ids([409])\n",
    "df_ctf_1_id = df_refac.select_by_ids([381])\n",
    "df_ctf_2_id = df_refac.select_by_ids([395])"
   ]
  },
  {
   "cell_type": "code",
   "execution_count": 10,
   "id": "33797b8e",
   "metadata": {},
   "outputs": [],
   "source": [
    "# groupby by 60min\n",
    "df_2loop_gr = df_refac.min_frac_groupby(\"60\", *df_2loop_ids)\n",
    "df_pump_1_gr = df_refac.min_frac_groupby(\"60\", *df_pump_1_id)\n",
    "df_pump_2_gr = df_refac.min_frac_groupby(\"60\", *df_pump_2_id)\n",
    "df_pump_3_gr = df_refac.min_frac_groupby(\"60\", *df_pump_3_id)\n",
    "df_pump_4_gr = df_refac.min_frac_groupby(\"60\", *df_pump_4_id)\n",
    "df_ctf_1_gr = df_refac.min_frac_groupby(\"60\", *df_ctf_1_id)\n",
    "df_ctf_2_gr = df_refac.min_frac_groupby(\"60\", *df_ctf_2_id)"
   ]
  },
  {
   "cell_type": "code",
   "execution_count": 11,
   "id": "66df6009",
   "metadata": {},
   "outputs": [],
   "source": [
    "# merge dfs that do meet requirements \n",
    "df_2loop = df_refac.create_df_from_dfs(\"ID\", df_2loop_gr)\n",
    "df_pump_1 = df_refac.create_df_from_dfs(\"ID\", df_pump_1_gr)\n",
    "df_pump_2 = df_refac.create_df_from_dfs(\"ID\", df_pump_2_gr)\n",
    "df_pump_3 = df_refac.create_df_from_dfs(\"ID\", df_pump_3_gr)\n",
    "df_pump_4 = df_refac.create_df_from_dfs(\"ID\", df_pump_4_gr)\n",
    "df_ctf_1 = df_refac.create_df_from_dfs(\"ID\", df_ctf_1_gr)\n",
    "df_ctf_2 = df_refac.create_df_from_dfs(\"ID\", df_ctf_2_gr)"
   ]
  },
  {
   "cell_type": "code",
   "execution_count": 12,
   "id": "33025875",
   "metadata": {},
   "outputs": [],
   "source": [
    "# adding Qdis (heat dissipated in 2nd loop)\n",
    "df_2loop[\"Qdis\"] = df_2loop[481]*1.16*(df_2loop[319] - df_2loop[317])"
   ]
  },
  {
   "cell_type": "code",
   "execution_count": 13,
   "id": "48fd234d",
   "metadata": {},
   "outputs": [],
   "source": [
    "# split each df on time periods\n",
    "df_2loop_tp = df_refac.select_time_period(df_2loop, time_periods)\n",
    "df_pump_1_tp = df_refac.select_time_period(df_pump_1, time_periods)\n",
    "df_pump_2_tp = df_refac.select_time_period(df_pump_2, time_periods)\n",
    "df_pump_3_tp = df_refac.select_time_period(df_pump_3, time_periods)\n",
    "df_pump_4_tp = df_refac.select_time_period(df_pump_4, time_periods)\n",
    "df_ctf_1_tp = df_refac.select_time_period(df_ctf_1, time_periods)\n",
    "df_ctf_2_tp = df_refac.select_time_period(df_ctf_2, time_periods)"
   ]
  },
  {
   "cell_type": "code",
   "execution_count": 14,
   "id": "61752e85",
   "metadata": {},
   "outputs": [],
   "source": [
    "# for further analytics and research first 3 time periods will be taken\n",
    "# name conventions for this periods: tp1, tp2, tp3\n",
    "tp1, tp2, tp3, *rest = list(df_2loop_tp.keys())"
   ]
  },
  {
   "cell_type": "code",
   "execution_count": 15,
   "id": "6ddbc8b5",
   "metadata": {},
   "outputs": [],
   "source": [
    "# first tp\n",
    "df_2loop_tp1 = df_2loop_tp[tp1]\n",
    "df_pump_1_tp1 = df_pump_1_tp[tp1]\n",
    "df_pump_2_tp1 = df_pump_2_tp[tp1]\n",
    "df_pump_3_tp1 = df_pump_3_tp[tp1]\n",
    "df_pump_4_tp1 = df_pump_4_tp[tp1]\n",
    "df_ctf_1_tp1 = df_ctf_1_tp[tp1]\n",
    "df_ctf_2_tp1 = df_ctf_2_tp[tp1]"
   ]
  },
  {
   "cell_type": "code",
   "execution_count": 16,
   "id": "c66b6c2a",
   "metadata": {},
   "outputs": [],
   "source": [
    "# filter 1st period to observe steady state condition\n",
    "# upon previosly made tests - filter by temperature\n",
    "from analytics import WaterTemperatures\n",
    "md_temp = 1.5\n",
    "temp_anals = WaterTemperatures(md_temp)\n",
    "df_2loop_tp1_fd, r = temp_anals.df_md_filter(df_2loop_tp1, 317)"
   ]
  },
  {
   "cell_type": "code",
   "execution_count": 18,
   "id": "8dcc8a1c",
   "metadata": {},
   "outputs": [],
   "source": [
    "# all other dfs will be filtered by indexes from temperature filtered df\n",
    "dfs_tp1 = [df_pump_1_tp1, df_pump_2_tp1, df_pump_3_tp1, df_pump_4_tp1, df_ctf_1_tp1, df_ctf_2_tp1]\n",
    "dfs_tp1_fd = []\n",
    "for i in dfs_tp1:\n",
    "    dfs_tp1_fd.append(i.loc[df_2loop_tp1_fd.index[0]:df_2loop_tp1_fd.index[-1]])\n",
    "\n",
    "# lastly add 2loop to filtered\n",
    "dfs_tp1_fd.append(df_2loop_tp1_fd)"
   ]
  },
  {
   "cell_type": "code",
   "execution_count": 155,
   "id": "8f3c9883",
   "metadata": {},
   "outputs": [
    {
     "data": {
      "text/plain": [
       "[<matplotlib.lines.Line2D at 0x7fa98f207070>]"
      ]
     },
     "execution_count": 155,
     "metadata": {},
     "output_type": "execute_result"
    },
    {
     "data": {
      "image/png": "[encoded data removed]",
      "text/plain": [
       "<Figure size 640x480 with 1 Axes>"
      ]
     },
     "metadata": {},
     "output_type": "display_data"
    }
   ],
   "source": [
    "plt.plot(df_2loop_tp1_fd[317])\n",
    "plt.plot(df_pump_1_tp1_fd)"
   ]
  },
  {
   "cell_type": "code",
   "execution_count": null,
   "id": "0d10dab8",
   "metadata": {},
   "outputs": [],
   "source": []
  }
 ],
 "metadata": {
  "kernelspec": {
   "display_name": "Python 3 (ipykernel)",
   "language": "python",
   "name": "python3"
  },
  "language_info": {
   "codemirror_mode": {
    "name": "ipython",
    "version": 3
   },
   "file_extension": ".py",
   "mimetype": "text/x-python",
   "name": "python",
   "nbconvert_exporter": "python",
   "pygments_lexer": "ipython3",
   "version": "3.10.0"
  }
 },
 "nbformat": 4,
 "nbformat_minor": 5
}
