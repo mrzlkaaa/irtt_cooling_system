{
 "cells": [
  {
   "cell_type": "code",
   "execution_count": 2,
   "id": "9e74d836",
   "metadata": {},
   "outputs": [],
   "source": [
    "import os\n",
    "import numpy as np\n",
    "import pandas as pd\n",
    "from matplotlib import pyplot as plt"
   ]
  },
  {
   "cell_type": "markdown",
   "id": "7b4bcf89",
   "metadata": {},
   "source": [
    "* 299 Т1к после ТО\n",
    "* 315 Т1к перед ТО\n",
    "\n",
    "* 317 Т2к перед ТО\n",
    "* 319 Т2к после ТО\n",
    "\n",
    "* 325 Т2к выхТО1\n",
    "* 460 Т2к выхТО2\n",
    "* 461 Т2к выхТО3\n",
    "* 462 Т2к выхТО4\n",
    "* 463 Т2к выхТО5\n",
    "\n",
    "* 480 Q1контура\n",
    "* 481 Q2контура\n",
    "\n",
    "* 307 P1контура\n",
    "* 309 Р2контура\n"
   ]
  },
  {
   "cell_type": "code",
   "execution_count": 3,
   "id": "0faf433e",
   "metadata": {},
   "outputs": [],
   "source": [
    "# df_init = pd.read_csv(os.path.join(os.path.dirname(os.path.abspath(\"\")),\n",
    "#                                    \"4october_8december_2022.csv\"), on_bad_lines='skip')\n",
    "df_init = pd.read_csv(os.path.join(os.path.dirname(os.path.abspath(\"\")),\n",
    "                                   \"041022_to_231222.csv\"), on_bad_lines='skip')"
   ]
  },
  {
   "cell_type": "code",
   "execution_count": 4,
   "id": "b19ded4e",
   "metadata": {},
   "outputs": [
    {
     "data": {
      "text/html": [
       "<div>\n",
       "<style scoped>\n",
       "    .dataframe tbody tr th:only-of-type {\n",
       "        vertical-align: middle;\n",
       "    }\n",
       "\n",
       "    .dataframe tbody tr th {\n",
       "        vertical-align: top;\n",
       "    }\n",
       "\n",
       "    .dataframe thead th {\n",
       "        text-align: right;\n",
       "    }\n",
       "</style>\n",
       "<table border=\"1\" class=\"dataframe\">\n",
       "  <thead>\n",
       "    <tr style=\"text-align: right;\">\n",
       "      <th></th>\n",
       "      <th>ID</th>\n",
       "      <th>Timestamp</th>\n",
       "      <th>Value</th>\n",
       "      <th>Quality</th>\n",
       "    </tr>\n",
       "  </thead>\n",
       "  <tbody>\n",
       "    <tr>\n",
       "      <th>0</th>\n",
       "      <td>299</td>\n",
       "      <td>2022-10-04 09:07:23.313</td>\n",
       "      <td>0.0</td>\n",
       "      <td>2</td>\n",
       "    </tr>\n",
       "    <tr>\n",
       "      <th>1</th>\n",
       "      <td>299</td>\n",
       "      <td>2022-10-04 09:07:23.328</td>\n",
       "      <td>0.0</td>\n",
       "      <td>0</td>\n",
       "    </tr>\n",
       "    <tr>\n",
       "      <th>2</th>\n",
       "      <td>299</td>\n",
       "      <td>2022-10-04 09:07:29.825</td>\n",
       "      <td>23.0</td>\n",
       "      <td>1</td>\n",
       "    </tr>\n",
       "    <tr>\n",
       "      <th>3</th>\n",
       "      <td>299</td>\n",
       "      <td>2022-10-04 09:07:58.075</td>\n",
       "      <td>23.0</td>\n",
       "      <td>1</td>\n",
       "    </tr>\n",
       "    <tr>\n",
       "      <th>4</th>\n",
       "      <td>299</td>\n",
       "      <td>2022-10-04 09:08:00.092</td>\n",
       "      <td>23.0</td>\n",
       "      <td>1</td>\n",
       "    </tr>\n",
       "    <tr>\n",
       "      <th>5</th>\n",
       "      <td>299</td>\n",
       "      <td>2022-10-04 09:08:02.092</td>\n",
       "      <td>23.0</td>\n",
       "      <td>1</td>\n",
       "    </tr>\n",
       "    <tr>\n",
       "      <th>6</th>\n",
       "      <td>299</td>\n",
       "      <td>2022-10-04 09:08:59.126</td>\n",
       "      <td>23.0</td>\n",
       "      <td>1</td>\n",
       "    </tr>\n",
       "    <tr>\n",
       "      <th>7</th>\n",
       "      <td>299</td>\n",
       "      <td>2022-10-04 09:09:01.126</td>\n",
       "      <td>23.0</td>\n",
       "      <td>1</td>\n",
       "    </tr>\n",
       "    <tr>\n",
       "      <th>8</th>\n",
       "      <td>299</td>\n",
       "      <td>2022-10-04 09:09:03.126</td>\n",
       "      <td>23.0</td>\n",
       "      <td>1</td>\n",
       "    </tr>\n",
       "    <tr>\n",
       "      <th>9</th>\n",
       "      <td>299</td>\n",
       "      <td>2022-10-04 09:09:59.644</td>\n",
       "      <td>23.0</td>\n",
       "      <td>1</td>\n",
       "    </tr>\n",
       "  </tbody>\n",
       "</table>\n",
       "</div>"
      ],
      "text/plain": [
       "    ID                Timestamp  Value  Quality\n",
       "0  299  2022-10-04 09:07:23.313    0.0        2\n",
       "1  299  2022-10-04 09:07:23.328    0.0        0\n",
       "2  299  2022-10-04 09:07:29.825   23.0        1\n",
       "3  299  2022-10-04 09:07:58.075   23.0        1\n",
       "4  299  2022-10-04 09:08:00.092   23.0        1\n",
       "5  299  2022-10-04 09:08:02.092   23.0        1\n",
       "6  299  2022-10-04 09:08:59.126   23.0        1\n",
       "7  299  2022-10-04 09:09:01.126   23.0        1\n",
       "8  299  2022-10-04 09:09:03.126   23.0        1\n",
       "9  299  2022-10-04 09:09:59.644   23.0        1"
      ]
     },
     "execution_count": 4,
     "metadata": {},
     "output_type": "execute_result"
    }
   ],
   "source": [
    "df_init.head(10)"
   ]
  },
  {
   "cell_type": "code",
   "execution_count": 5,
   "id": "7c456844",
   "metadata": {},
   "outputs": [
    {
     "data": {
      "text/html": [
       "<div>\n",
       "<style scoped>\n",
       "    .dataframe tbody tr th:only-of-type {\n",
       "        vertical-align: middle;\n",
       "    }\n",
       "\n",
       "    .dataframe tbody tr th {\n",
       "        vertical-align: top;\n",
       "    }\n",
       "\n",
       "    .dataframe thead th {\n",
       "        text-align: right;\n",
       "    }\n",
       "</style>\n",
       "<table border=\"1\" class=\"dataframe\">\n",
       "  <thead>\n",
       "    <tr style=\"text-align: right;\">\n",
       "      <th></th>\n",
       "      <th>ID</th>\n",
       "      <th>Timestamp</th>\n",
       "      <th>Value</th>\n",
       "      <th>Quality</th>\n",
       "    </tr>\n",
       "  </thead>\n",
       "  <tbody>\n",
       "    <tr>\n",
       "      <th>2314333</th>\n",
       "      <td>481</td>\n",
       "      <td>2022-12-23 18:33:32.611</td>\n",
       "      <td>0.0</td>\n",
       "      <td>0</td>\n",
       "    </tr>\n",
       "    <tr>\n",
       "      <th>2314334</th>\n",
       "      <td>481</td>\n",
       "      <td>2022-12-23 19:32:32.611</td>\n",
       "      <td>0.0</td>\n",
       "      <td>0</td>\n",
       "    </tr>\n",
       "    <tr>\n",
       "      <th>2314335</th>\n",
       "      <td>481</td>\n",
       "      <td>2022-12-23 20:31:32.611</td>\n",
       "      <td>0.0</td>\n",
       "      <td>0</td>\n",
       "    </tr>\n",
       "    <tr>\n",
       "      <th>2314336</th>\n",
       "      <td>481</td>\n",
       "      <td>2022-12-23 21:30:32.611</td>\n",
       "      <td>0.0</td>\n",
       "      <td>0</td>\n",
       "    </tr>\n",
       "    <tr>\n",
       "      <th>2314337</th>\n",
       "      <td>481</td>\n",
       "      <td>2022-12-23 22:29:32.611</td>\n",
       "      <td>0.0</td>\n",
       "      <td>0</td>\n",
       "    </tr>\n",
       "  </tbody>\n",
       "</table>\n",
       "</div>"
      ],
      "text/plain": [
       "          ID                Timestamp  Value  Quality\n",
       "2314333  481  2022-12-23 18:33:32.611    0.0        0\n",
       "2314334  481  2022-12-23 19:32:32.611    0.0        0\n",
       "2314335  481  2022-12-23 20:31:32.611    0.0        0\n",
       "2314336  481  2022-12-23 21:30:32.611    0.0        0\n",
       "2314337  481  2022-12-23 22:29:32.611    0.0        0"
      ]
     },
     "execution_count": 5,
     "metadata": {},
     "output_type": "execute_result"
    }
   ],
   "source": [
    "df_init.tail()"
   ]
  },
  {
   "cell_type": "code",
   "execution_count": 6,
   "id": "d638fd13",
   "metadata": {},
   "outputs": [
    {
     "name": "stdout",
     "output_type": "stream",
     "text": [
      "<class 'pandas.core.frame.DataFrame'>\n",
      "RangeIndex: 2314338 entries, 0 to 2314337\n",
      "Data columns (total 4 columns):\n",
      " #   Column     Dtype  \n",
      "---  ------     -----  \n",
      " 0   ID         int64  \n",
      " 1   Timestamp  object \n",
      " 2   Value      float64\n",
      " 3   Quality    int64  \n",
      "dtypes: float64(1), int64(2), object(1)\n",
      "memory usage: 70.6+ MB\n"
     ]
    }
   ],
   "source": [
    "df_init.info()"
   ]
  },
  {
   "cell_type": "code",
   "execution_count": 7,
   "id": "8cfe599f",
   "metadata": {},
   "outputs": [],
   "source": [
    "# change datetime format to \"%m/%d/%Y, %H:%M\"\n",
    "df_init[\"Timestamp\"] = pd.to_datetime(df_init[\"Timestamp\"], format=\"%Y-%m-%dT%H:%M\")"
   ]
  },
  {
   "cell_type": "code",
   "execution_count": 8,
   "id": "c287ddbc",
   "metadata": {},
   "outputs": [
    {
     "data": {
      "text/html": [
       "<div>\n",
       "<style scoped>\n",
       "    .dataframe tbody tr th:only-of-type {\n",
       "        vertical-align: middle;\n",
       "    }\n",
       "\n",
       "    .dataframe tbody tr th {\n",
       "        vertical-align: top;\n",
       "    }\n",
       "\n",
       "    .dataframe thead th {\n",
       "        text-align: right;\n",
       "    }\n",
       "</style>\n",
       "<table border=\"1\" class=\"dataframe\">\n",
       "  <thead>\n",
       "    <tr style=\"text-align: right;\">\n",
       "      <th></th>\n",
       "      <th>ID</th>\n",
       "      <th>Timestamp</th>\n",
       "      <th>Value</th>\n",
       "      <th>Quality</th>\n",
       "    </tr>\n",
       "  </thead>\n",
       "  <tbody>\n",
       "    <tr>\n",
       "      <th>0</th>\n",
       "      <td>299</td>\n",
       "      <td>2022-10-04 09:07:23.313</td>\n",
       "      <td>0.0</td>\n",
       "      <td>2</td>\n",
       "    </tr>\n",
       "    <tr>\n",
       "      <th>1</th>\n",
       "      <td>299</td>\n",
       "      <td>2022-10-04 09:07:23.328</td>\n",
       "      <td>0.0</td>\n",
       "      <td>0</td>\n",
       "    </tr>\n",
       "    <tr>\n",
       "      <th>2</th>\n",
       "      <td>299</td>\n",
       "      <td>2022-10-04 09:07:29.825</td>\n",
       "      <td>23.0</td>\n",
       "      <td>1</td>\n",
       "    </tr>\n",
       "    <tr>\n",
       "      <th>3</th>\n",
       "      <td>299</td>\n",
       "      <td>2022-10-04 09:07:58.075</td>\n",
       "      <td>23.0</td>\n",
       "      <td>1</td>\n",
       "    </tr>\n",
       "    <tr>\n",
       "      <th>4</th>\n",
       "      <td>299</td>\n",
       "      <td>2022-10-04 09:08:00.092</td>\n",
       "      <td>23.0</td>\n",
       "      <td>1</td>\n",
       "    </tr>\n",
       "    <tr>\n",
       "      <th>5</th>\n",
       "      <td>299</td>\n",
       "      <td>2022-10-04 09:08:02.092</td>\n",
       "      <td>23.0</td>\n",
       "      <td>1</td>\n",
       "    </tr>\n",
       "    <tr>\n",
       "      <th>6</th>\n",
       "      <td>299</td>\n",
       "      <td>2022-10-04 09:08:59.126</td>\n",
       "      <td>23.0</td>\n",
       "      <td>1</td>\n",
       "    </tr>\n",
       "    <tr>\n",
       "      <th>7</th>\n",
       "      <td>299</td>\n",
       "      <td>2022-10-04 09:09:01.126</td>\n",
       "      <td>23.0</td>\n",
       "      <td>1</td>\n",
       "    </tr>\n",
       "    <tr>\n",
       "      <th>8</th>\n",
       "      <td>299</td>\n",
       "      <td>2022-10-04 09:09:03.126</td>\n",
       "      <td>23.0</td>\n",
       "      <td>1</td>\n",
       "    </tr>\n",
       "    <tr>\n",
       "      <th>9</th>\n",
       "      <td>299</td>\n",
       "      <td>2022-10-04 09:09:59.644</td>\n",
       "      <td>23.0</td>\n",
       "      <td>1</td>\n",
       "    </tr>\n",
       "  </tbody>\n",
       "</table>\n",
       "</div>"
      ],
      "text/plain": [
       "    ID               Timestamp  Value  Quality\n",
       "0  299 2022-10-04 09:07:23.313    0.0        2\n",
       "1  299 2022-10-04 09:07:23.328    0.0        0\n",
       "2  299 2022-10-04 09:07:29.825   23.0        1\n",
       "3  299 2022-10-04 09:07:58.075   23.0        1\n",
       "4  299 2022-10-04 09:08:00.092   23.0        1\n",
       "5  299 2022-10-04 09:08:02.092   23.0        1\n",
       "6  299 2022-10-04 09:08:59.126   23.0        1\n",
       "7  299 2022-10-04 09:09:01.126   23.0        1\n",
       "8  299 2022-10-04 09:09:03.126   23.0        1\n",
       "9  299 2022-10-04 09:09:59.644   23.0        1"
      ]
     },
     "execution_count": 8,
     "metadata": {},
     "output_type": "execute_result"
    }
   ],
   "source": [
    "df_init.head(10)"
   ]
  },
  {
   "cell_type": "code",
   "execution_count": 9,
   "id": "a2b55158",
   "metadata": {},
   "outputs": [
    {
     "name": "stdout",
     "output_type": "stream",
     "text": [
      "<class 'pandas.core.frame.DataFrame'>\n",
      "RangeIndex: 2314338 entries, 0 to 2314337\n",
      "Data columns (total 4 columns):\n",
      " #   Column     Dtype         \n",
      "---  ------     -----         \n",
      " 0   ID         int64         \n",
      " 1   Timestamp  datetime64[ns]\n",
      " 2   Value      float64       \n",
      " 3   Quality    int64         \n",
      "dtypes: datetime64[ns](1), float64(1), int64(2)\n",
      "memory usage: 70.6 MB\n"
     ]
    }
   ],
   "source": [
    "df_init.info()"
   ]
  },
  {
   "cell_type": "code",
   "execution_count": 10,
   "id": "20541736",
   "metadata": {},
   "outputs": [
    {
     "data": {
      "text/plain": [
       "1    2307699\n",
       "0       5026\n",
       "2       1109\n",
       "3        504\n",
       "Name: Quality, dtype: int64"
      ]
     },
     "execution_count": 10,
     "metadata": {},
     "output_type": "execute_result"
    }
   ],
   "source": [
    "df_init[\"Quality\"].value_counts()"
   ]
  },
  {
   "cell_type": "code",
   "execution_count": 11,
   "id": "8e21098e",
   "metadata": {},
   "outputs": [
    {
     "data": {
      "text/plain": [
       "1    2307699\n",
       "0       5026\n",
       "Name: Quality, dtype: int64"
      ]
     },
     "execution_count": 11,
     "metadata": {},
     "output_type": "execute_result"
    }
   ],
   "source": [
    "# drop all rows where Quality value is not 1 or 0\n",
    "df_init = df_init[(df_init[\"Quality\"] == 1) | (df_init[\"Quality\"] == 0)]\n",
    "df_init[\"Quality\"].value_counts()"
   ]
  },
  {
   "cell_type": "code",
   "execution_count": 12,
   "id": "b71f248f",
   "metadata": {},
   "outputs": [
    {
     "data": {
      "text/plain": [
       "(159833, 160477)"
      ]
     },
     "execution_count": 12,
     "metadata": {},
     "output_type": "execute_result"
    }
   ],
   "source": [
    "#create few df_ids\n",
    "df_299 = df_init[df_init[\"ID\"] == 299]\n",
    "df_315 = df_init[df_init[\"ID\"] == 315]\n",
    "len(df_299), len(df_315)"
   ]
  },
  {
   "cell_type": "code",
   "execution_count": 13,
   "id": "367fe6b3",
   "metadata": {},
   "outputs": [
    {
     "name": "stdout",
     "output_type": "stream",
     "text": [
      "<class 'pandas.core.frame.DataFrame'>\n",
      "Int64Index: 159833 entries, 1 to 159922\n",
      "Data columns (total 4 columns):\n",
      " #   Column     Non-Null Count   Dtype         \n",
      "---  ------     --------------   -----         \n",
      " 0   ID         159833 non-null  int64         \n",
      " 1   Timestamp  159833 non-null  datetime64[ns]\n",
      " 2   Value      159833 non-null  float64       \n",
      " 3   Quality    159833 non-null  int64         \n",
      "dtypes: datetime64[ns](1), float64(1), int64(2)\n",
      "memory usage: 6.1 MB\n"
     ]
    }
   ],
   "source": [
    "df_299.info()"
   ]
  },
  {
   "cell_type": "code",
   "execution_count": 14,
   "id": "463c5674",
   "metadata": {},
   "outputs": [],
   "source": [
    "df_299 = df_299.set_index(\"Timestamp\")"
   ]
  },
  {
   "cell_type": "code",
   "execution_count": 15,
   "id": "b64faa65",
   "metadata": {},
   "outputs": [],
   "source": [
    "df_315 = df_315.set_index(\"Timestamp\")"
   ]
  },
  {
   "cell_type": "markdown",
   "id": "bb5bb9dd",
   "metadata": {},
   "source": [
    "## Before use groupby  on dfs better to drop unused columns (ids, quality)"
   ]
  },
  {
   "cell_type": "code",
   "execution_count": 16,
   "id": "028f35ad",
   "metadata": {},
   "outputs": [],
   "source": [
    "# to visualize how temperature difference changes over a time need to remove rows with quality=0\n",
    "df_299_operated = df_299[df_299[\"Quality\"] == 1]\n",
    "df_315_operated = df_315[df_315[\"Quality\"] == 1]"
   ]
  },
  {
   "cell_type": "code",
   "execution_count": 17,
   "id": "8fc63afc",
   "metadata": {},
   "outputs": [
    {
     "data": {
      "text/html": [
       "<div>\n",
       "<style scoped>\n",
       "    .dataframe tbody tr th:only-of-type {\n",
       "        vertical-align: middle;\n",
       "    }\n",
       "\n",
       "    .dataframe tbody tr th {\n",
       "        vertical-align: top;\n",
       "    }\n",
       "\n",
       "    .dataframe thead th {\n",
       "        text-align: right;\n",
       "    }\n",
       "</style>\n",
       "<table border=\"1\" class=\"dataframe\">\n",
       "  <thead>\n",
       "    <tr style=\"text-align: right;\">\n",
       "      <th></th>\n",
       "      <th>ID</th>\n",
       "      <th>Value</th>\n",
       "      <th>Quality</th>\n",
       "    </tr>\n",
       "    <tr>\n",
       "      <th>Timestamp</th>\n",
       "      <th></th>\n",
       "      <th></th>\n",
       "      <th></th>\n",
       "    </tr>\n",
       "  </thead>\n",
       "  <tbody>\n",
       "    <tr>\n",
       "      <th>2022-10-04 09:05:00</th>\n",
       "      <td>315.0</td>\n",
       "      <td>23.299999</td>\n",
       "      <td>1.0</td>\n",
       "    </tr>\n",
       "    <tr>\n",
       "      <th>2022-10-04 09:10:00</th>\n",
       "      <td>315.0</td>\n",
       "      <td>23.299999</td>\n",
       "      <td>1.0</td>\n",
       "    </tr>\n",
       "    <tr>\n",
       "      <th>2022-10-04 09:15:00</th>\n",
       "      <td>315.0</td>\n",
       "      <td>23.299999</td>\n",
       "      <td>1.0</td>\n",
       "    </tr>\n",
       "    <tr>\n",
       "      <th>2022-10-04 09:20:00</th>\n",
       "      <td>315.0</td>\n",
       "      <td>23.299999</td>\n",
       "      <td>1.0</td>\n",
       "    </tr>\n",
       "    <tr>\n",
       "      <th>2022-10-04 09:25:00</th>\n",
       "      <td>315.0</td>\n",
       "      <td>23.299999</td>\n",
       "      <td>1.0</td>\n",
       "    </tr>\n",
       "    <tr>\n",
       "      <th>...</th>\n",
       "      <td>...</td>\n",
       "      <td>...</td>\n",
       "      <td>...</td>\n",
       "    </tr>\n",
       "    <tr>\n",
       "      <th>2022-12-23 15:15:00</th>\n",
       "      <td>315.0</td>\n",
       "      <td>35.260000</td>\n",
       "      <td>1.0</td>\n",
       "    </tr>\n",
       "    <tr>\n",
       "      <th>2022-12-23 15:20:00</th>\n",
       "      <td>315.0</td>\n",
       "      <td>31.405000</td>\n",
       "      <td>1.0</td>\n",
       "    </tr>\n",
       "    <tr>\n",
       "      <th>2022-12-23 15:25:00</th>\n",
       "      <td>315.0</td>\n",
       "      <td>28.525000</td>\n",
       "      <td>1.0</td>\n",
       "    </tr>\n",
       "    <tr>\n",
       "      <th>2022-12-23 15:30:00</th>\n",
       "      <td>315.0</td>\n",
       "      <td>26.400000</td>\n",
       "      <td>1.0</td>\n",
       "    </tr>\n",
       "    <tr>\n",
       "      <th>2022-12-23 15:35:00</th>\n",
       "      <td>315.0</td>\n",
       "      <td>25.799999</td>\n",
       "      <td>1.0</td>\n",
       "    </tr>\n",
       "  </tbody>\n",
       "</table>\n",
       "<p>23119 rows × 3 columns</p>\n",
       "</div>"
      ],
      "text/plain": [
       "                        ID      Value  Quality\n",
       "Timestamp                                     \n",
       "2022-10-04 09:05:00  315.0  23.299999      1.0\n",
       "2022-10-04 09:10:00  315.0  23.299999      1.0\n",
       "2022-10-04 09:15:00  315.0  23.299999      1.0\n",
       "2022-10-04 09:20:00  315.0  23.299999      1.0\n",
       "2022-10-04 09:25:00  315.0  23.299999      1.0\n",
       "...                    ...        ...      ...\n",
       "2022-12-23 15:15:00  315.0  35.260000      1.0\n",
       "2022-12-23 15:20:00  315.0  31.405000      1.0\n",
       "2022-12-23 15:25:00  315.0  28.525000      1.0\n",
       "2022-12-23 15:30:00  315.0  26.400000      1.0\n",
       "2022-12-23 15:35:00  315.0  25.799999      1.0\n",
       "\n",
       "[23119 rows x 3 columns]"
      ]
     },
     "execution_count": 17,
     "metadata": {},
     "output_type": "execute_result"
    }
   ],
   "source": [
    "df_299_operated_mean = df_299_operated.groupby(pd.Grouper(freq=\"5min\")).mean()\n",
    "df_315_operated_mean = df_315_operated.groupby(pd.Grouper(freq=\"5min\")).mean()\n",
    "df_315_operated_mean"
   ]
  },
  {
   "cell_type": "code",
   "execution_count": 18,
   "id": "443ac312",
   "metadata": {},
   "outputs": [
    {
     "data": {
      "text/html": [
       "<div>\n",
       "<style scoped>\n",
       "    .dataframe tbody tr th:only-of-type {\n",
       "        vertical-align: middle;\n",
       "    }\n",
       "\n",
       "    .dataframe tbody tr th {\n",
       "        vertical-align: top;\n",
       "    }\n",
       "\n",
       "    .dataframe thead th {\n",
       "        text-align: right;\n",
       "    }\n",
       "</style>\n",
       "<table border=\"1\" class=\"dataframe\">\n",
       "  <thead>\n",
       "    <tr style=\"text-align: right;\">\n",
       "      <th></th>\n",
       "      <th>Value</th>\n",
       "    </tr>\n",
       "    <tr>\n",
       "      <th>Timestamp</th>\n",
       "      <th></th>\n",
       "    </tr>\n",
       "  </thead>\n",
       "  <tbody>\n",
       "    <tr>\n",
       "      <th>2022-10-04 09:05:00</th>\n",
       "      <td>0.299999</td>\n",
       "    </tr>\n",
       "    <tr>\n",
       "      <th>2022-10-04 09:10:00</th>\n",
       "      <td>0.299999</td>\n",
       "    </tr>\n",
       "    <tr>\n",
       "      <th>2022-10-04 09:15:00</th>\n",
       "      <td>0.306249</td>\n",
       "    </tr>\n",
       "    <tr>\n",
       "      <th>2022-10-04 09:20:00</th>\n",
       "      <td>0.373684</td>\n",
       "    </tr>\n",
       "    <tr>\n",
       "      <th>2022-10-04 09:25:00</th>\n",
       "      <td>0.400000</td>\n",
       "    </tr>\n",
       "    <tr>\n",
       "      <th>...</th>\n",
       "      <td>...</td>\n",
       "    </tr>\n",
       "    <tr>\n",
       "      <th>2022-12-23 15:15:00</th>\n",
       "      <td>3.175000</td>\n",
       "    </tr>\n",
       "    <tr>\n",
       "      <th>2022-12-23 15:20:00</th>\n",
       "      <td>2.540000</td>\n",
       "    </tr>\n",
       "    <tr>\n",
       "      <th>2022-12-23 15:25:00</th>\n",
       "      <td>2.025000</td>\n",
       "    </tr>\n",
       "    <tr>\n",
       "      <th>2022-12-23 15:30:00</th>\n",
       "      <td>1.775000</td>\n",
       "    </tr>\n",
       "    <tr>\n",
       "      <th>2022-12-23 15:35:00</th>\n",
       "      <td>1.985714</td>\n",
       "    </tr>\n",
       "  </tbody>\n",
       "</table>\n",
       "<p>23119 rows × 1 columns</p>\n",
       "</div>"
      ],
      "text/plain": [
       "                        Value\n",
       "Timestamp                    \n",
       "2022-10-04 09:05:00  0.299999\n",
       "2022-10-04 09:10:00  0.299999\n",
       "2022-10-04 09:15:00  0.306249\n",
       "2022-10-04 09:20:00  0.373684\n",
       "2022-10-04 09:25:00  0.400000\n",
       "...                       ...\n",
       "2022-12-23 15:15:00  3.175000\n",
       "2022-12-23 15:20:00  2.540000\n",
       "2022-12-23 15:25:00  2.025000\n",
       "2022-12-23 15:30:00  1.775000\n",
       "2022-12-23 15:35:00  1.985714\n",
       "\n",
       "[23119 rows x 1 columns]"
      ]
     },
     "execution_count": 18,
     "metadata": {},
     "output_type": "execute_result"
    }
   ],
   "source": [
    "df_315_299_diff_mean = df_315_operated_mean - df_299_operated_mean\n",
    "df_315_299_diff_mean = df_315_299_diff_mean.drop([\"ID\", \"Quality\"], axis=1)\n",
    "# df_315_299_diff_mean = df_315_299_diff_mean[df_315_299_diff_mean[\"Value\"] > 0]\n",
    "df_315_299_diff_mean"
   ]
  },
  {
   "cell_type": "code",
   "execution_count": 19,
   "id": "f468a5be",
   "metadata": {},
   "outputs": [
    {
     "data": {
      "image/png": "[encoded data removed]",
      "text/plain": [
       "<Figure size 640x480 with 1 Axes>"
      ]
     },
     "metadata": {},
     "output_type": "display_data"
    }
   ],
   "source": [
    "plt.scatter(df_315_299_diff_mean.index, df_315_299_diff_mean[\"Value\"])\n",
    "plt.xticks(rotation=90)\n",
    "plt.show()"
   ]
  },
  {
   "cell_type": "code",
   "execution_count": 20,
   "id": "5e0d4775",
   "metadata": {},
   "outputs": [],
   "source": [
    "#just quick check when the df length become equal to each other\n",
    "df_299_qc = df_299.groupby(pd.Grouper(freq=\"1min\")).mean()\n",
    "df_315_qc = df_315.groupby(pd.Grouper(freq=\"1min\")).mean()"
   ]
  },
  {
   "cell_type": "code",
   "execution_count": 21,
   "id": "66090b9a",
   "metadata": {},
   "outputs": [
    {
     "data": {
      "text/plain": [
       "(                        ID      Value   Quality\n",
       " Timestamp                                      \n",
       " 2022-10-04 09:07:00  299.0  15.333333  0.666667\n",
       " 2022-10-04 09:08:00  299.0  23.000000  1.000000\n",
       " 2022-10-04 09:09:00  299.0  23.000000  1.000000\n",
       " 2022-10-04 09:10:00  299.0  23.000000  1.000000\n",
       " 2022-10-04 09:11:00  299.0  23.000000  1.000000\n",
       " ...                    ...        ...       ...\n",
       " 2022-12-23 22:25:00    NaN        NaN       NaN\n",
       " 2022-12-23 22:26:00    NaN        NaN       NaN\n",
       " 2022-12-23 22:27:00    NaN        NaN       NaN\n",
       " 2022-12-23 22:28:00    NaN        NaN       NaN\n",
       " 2022-12-23 22:29:00  299.0   0.000000  0.000000\n",
       " \n",
       " [116003 rows x 3 columns],\n",
       "                         ID      Value   Quality\n",
       " Timestamp                                      \n",
       " 2022-10-04 09:07:00  315.0  15.533333  0.666667\n",
       " 2022-10-04 09:08:00  315.0  23.299999  1.000000\n",
       " 2022-10-04 09:09:00  315.0  23.299999  1.000000\n",
       " 2022-10-04 09:10:00  315.0  23.299999  1.000000\n",
       " 2022-10-04 09:11:00  315.0  23.299999  1.000000\n",
       " ...                    ...        ...       ...\n",
       " 2022-12-23 22:25:00    NaN        NaN       NaN\n",
       " 2022-12-23 22:26:00    NaN        NaN       NaN\n",
       " 2022-12-23 22:27:00    NaN        NaN       NaN\n",
       " 2022-12-23 22:28:00    NaN        NaN       NaN\n",
       " 2022-12-23 22:29:00  315.0   0.000000  0.000000\n",
       " \n",
       " [116003 rows x 3 columns])"
      ]
     },
     "execution_count": 21,
     "metadata": {},
     "output_type": "execute_result"
    }
   ],
   "source": [
    "# even for 1 min series df are equal each other\n",
    "df_299_qc, df_315_qc"
   ]
  },
  {
   "cell_type": "code",
   "execution_count": 23,
   "id": "4d0b17cc",
   "metadata": {},
   "outputs": [
    {
     "data": {
      "text/html": [
       "<div>\n",
       "<style scoped>\n",
       "    .dataframe tbody tr th:only-of-type {\n",
       "        vertical-align: middle;\n",
       "    }\n",
       "\n",
       "    .dataframe tbody tr th {\n",
       "        vertical-align: top;\n",
       "    }\n",
       "\n",
       "    .dataframe thead th {\n",
       "        text-align: right;\n",
       "    }\n",
       "</style>\n",
       "<table border=\"1\" class=\"dataframe\">\n",
       "  <thead>\n",
       "    <tr style=\"text-align: right;\">\n",
       "      <th></th>\n",
       "      <th>ID</th>\n",
       "      <th>Value</th>\n",
       "      <th>Quality</th>\n",
       "    </tr>\n",
       "    <tr>\n",
       "      <th>Timestamp</th>\n",
       "      <th></th>\n",
       "      <th></th>\n",
       "      <th></th>\n",
       "    </tr>\n",
       "  </thead>\n",
       "  <tbody>\n",
       "    <tr>\n",
       "      <th>2022-10-04 09:05:00</th>\n",
       "      <td>299.0</td>\n",
       "      <td>20.444444</td>\n",
       "      <td>0.888889</td>\n",
       "    </tr>\n",
       "    <tr>\n",
       "      <th>2022-10-04 09:10:00</th>\n",
       "      <td>299.0</td>\n",
       "      <td>23.000000</td>\n",
       "      <td>1.000000</td>\n",
       "    </tr>\n",
       "    <tr>\n",
       "      <th>2022-10-04 09:15:00</th>\n",
       "      <td>299.0</td>\n",
       "      <td>22.993750</td>\n",
       "      <td>1.000000</td>\n",
       "    </tr>\n",
       "    <tr>\n",
       "      <th>2022-10-04 09:20:00</th>\n",
       "      <td>299.0</td>\n",
       "      <td>22.926316</td>\n",
       "      <td>1.000000</td>\n",
       "    </tr>\n",
       "    <tr>\n",
       "      <th>2022-10-04 09:25:00</th>\n",
       "      <td>299.0</td>\n",
       "      <td>22.900000</td>\n",
       "      <td>1.000000</td>\n",
       "    </tr>\n",
       "    <tr>\n",
       "      <th>...</th>\n",
       "      <td>...</td>\n",
       "      <td>...</td>\n",
       "      <td>...</td>\n",
       "    </tr>\n",
       "    <tr>\n",
       "      <th>2022-12-23 22:05:00</th>\n",
       "      <td>NaN</td>\n",
       "      <td>NaN</td>\n",
       "      <td>NaN</td>\n",
       "    </tr>\n",
       "    <tr>\n",
       "      <th>2022-12-23 22:10:00</th>\n",
       "      <td>NaN</td>\n",
       "      <td>NaN</td>\n",
       "      <td>NaN</td>\n",
       "    </tr>\n",
       "    <tr>\n",
       "      <th>2022-12-23 22:15:00</th>\n",
       "      <td>NaN</td>\n",
       "      <td>NaN</td>\n",
       "      <td>NaN</td>\n",
       "    </tr>\n",
       "    <tr>\n",
       "      <th>2022-12-23 22:20:00</th>\n",
       "      <td>NaN</td>\n",
       "      <td>NaN</td>\n",
       "      <td>NaN</td>\n",
       "    </tr>\n",
       "    <tr>\n",
       "      <th>2022-12-23 22:25:00</th>\n",
       "      <td>299.0</td>\n",
       "      <td>0.000000</td>\n",
       "      <td>0.000000</td>\n",
       "    </tr>\n",
       "  </tbody>\n",
       "</table>\n",
       "<p>23201 rows × 3 columns</p>\n",
       "</div>"
      ],
      "text/plain": [
       "                        ID      Value   Quality\n",
       "Timestamp                                      \n",
       "2022-10-04 09:05:00  299.0  20.444444  0.888889\n",
       "2022-10-04 09:10:00  299.0  23.000000  1.000000\n",
       "2022-10-04 09:15:00  299.0  22.993750  1.000000\n",
       "2022-10-04 09:20:00  299.0  22.926316  1.000000\n",
       "2022-10-04 09:25:00  299.0  22.900000  1.000000\n",
       "...                    ...        ...       ...\n",
       "2022-12-23 22:05:00    NaN        NaN       NaN\n",
       "2022-12-23 22:10:00    NaN        NaN       NaN\n",
       "2022-12-23 22:15:00    NaN        NaN       NaN\n",
       "2022-12-23 22:20:00    NaN        NaN       NaN\n",
       "2022-12-23 22:25:00  299.0   0.000000  0.000000\n",
       "\n",
       "[23201 rows x 3 columns]"
      ]
     },
     "execution_count": 23,
     "metadata": {},
     "output_type": "execute_result"
    }
   ],
   "source": [
    "df_299.groupby(pd.Grouper(freq=\"5min\")).mean()"
   ]
  },
  {
   "cell_type": "code",
   "execution_count": null,
   "id": "78c7dc50",
   "metadata": {},
   "outputs": [],
   "source": []
  },
  {
   "cell_type": "code",
   "execution_count": 24,
   "id": "dd7c7cd2",
   "metadata": {},
   "outputs": [
    {
     "data": {
      "text/html": [
       "<div>\n",
       "<style scoped>\n",
       "    .dataframe tbody tr th:only-of-type {\n",
       "        vertical-align: middle;\n",
       "    }\n",
       "\n",
       "    .dataframe tbody tr th {\n",
       "        vertical-align: top;\n",
       "    }\n",
       "\n",
       "    .dataframe thead th {\n",
       "        text-align: right;\n",
       "    }\n",
       "</style>\n",
       "<table border=\"1\" class=\"dataframe\">\n",
       "  <thead>\n",
       "    <tr style=\"text-align: right;\">\n",
       "      <th></th>\n",
       "      <th>ID</th>\n",
       "      <th>Value</th>\n",
       "      <th>Quality</th>\n",
       "    </tr>\n",
       "    <tr>\n",
       "      <th>Timestamp</th>\n",
       "      <th></th>\n",
       "      <th></th>\n",
       "      <th></th>\n",
       "    </tr>\n",
       "  </thead>\n",
       "  <tbody>\n",
       "    <tr>\n",
       "      <th>2022-10-04 09:05:00</th>\n",
       "      <td>315.0</td>\n",
       "      <td>20.711110</td>\n",
       "      <td>0.888889</td>\n",
       "    </tr>\n",
       "    <tr>\n",
       "      <th>2022-10-04 09:10:00</th>\n",
       "      <td>315.0</td>\n",
       "      <td>23.299999</td>\n",
       "      <td>1.000000</td>\n",
       "    </tr>\n",
       "    <tr>\n",
       "      <th>2022-10-04 09:15:00</th>\n",
       "      <td>315.0</td>\n",
       "      <td>23.299999</td>\n",
       "      <td>1.000000</td>\n",
       "    </tr>\n",
       "    <tr>\n",
       "      <th>2022-10-04 09:20:00</th>\n",
       "      <td>315.0</td>\n",
       "      <td>23.299999</td>\n",
       "      <td>1.000000</td>\n",
       "    </tr>\n",
       "    <tr>\n",
       "      <th>2022-10-04 09:25:00</th>\n",
       "      <td>315.0</td>\n",
       "      <td>23.299999</td>\n",
       "      <td>1.000000</td>\n",
       "    </tr>\n",
       "    <tr>\n",
       "      <th>...</th>\n",
       "      <td>...</td>\n",
       "      <td>...</td>\n",
       "      <td>...</td>\n",
       "    </tr>\n",
       "    <tr>\n",
       "      <th>2022-12-23 22:05:00</th>\n",
       "      <td>NaN</td>\n",
       "      <td>NaN</td>\n",
       "      <td>NaN</td>\n",
       "    </tr>\n",
       "    <tr>\n",
       "      <th>2022-12-23 22:10:00</th>\n",
       "      <td>NaN</td>\n",
       "      <td>NaN</td>\n",
       "      <td>NaN</td>\n",
       "    </tr>\n",
       "    <tr>\n",
       "      <th>2022-12-23 22:15:00</th>\n",
       "      <td>NaN</td>\n",
       "      <td>NaN</td>\n",
       "      <td>NaN</td>\n",
       "    </tr>\n",
       "    <tr>\n",
       "      <th>2022-12-23 22:20:00</th>\n",
       "      <td>NaN</td>\n",
       "      <td>NaN</td>\n",
       "      <td>NaN</td>\n",
       "    </tr>\n",
       "    <tr>\n",
       "      <th>2022-12-23 22:25:00</th>\n",
       "      <td>315.0</td>\n",
       "      <td>0.000000</td>\n",
       "      <td>0.000000</td>\n",
       "    </tr>\n",
       "  </tbody>\n",
       "</table>\n",
       "<p>23201 rows × 3 columns</p>\n",
       "</div>"
      ],
      "text/plain": [
       "                        ID      Value   Quality\n",
       "Timestamp                                      \n",
       "2022-10-04 09:05:00  315.0  20.711110  0.888889\n",
       "2022-10-04 09:10:00  315.0  23.299999  1.000000\n",
       "2022-10-04 09:15:00  315.0  23.299999  1.000000\n",
       "2022-10-04 09:20:00  315.0  23.299999  1.000000\n",
       "2022-10-04 09:25:00  315.0  23.299999  1.000000\n",
       "...                    ...        ...       ...\n",
       "2022-12-23 22:05:00    NaN        NaN       NaN\n",
       "2022-12-23 22:10:00    NaN        NaN       NaN\n",
       "2022-12-23 22:15:00    NaN        NaN       NaN\n",
       "2022-12-23 22:20:00    NaN        NaN       NaN\n",
       "2022-12-23 22:25:00  315.0   0.000000  0.000000\n",
       "\n",
       "[23201 rows x 3 columns]"
      ]
     },
     "execution_count": 24,
     "metadata": {},
     "output_type": "execute_result"
    }
   ],
   "source": [
    "df_315.groupby(pd.Grouper(freq=\"5min\")).mean()"
   ]
  },
  {
   "cell_type": "code",
   "execution_count": 25,
   "id": "467a3371",
   "metadata": {},
   "outputs": [],
   "source": [
    "# we have seen that lengths of "
   ]
  },
  {
   "cell_type": "code",
   "execution_count": 26,
   "id": "2d36c518",
   "metadata": {},
   "outputs": [
    {
     "data": {
      "image/png": "[encoded data removed]",
      "text/plain": [
       "<Figure size 640x480 with 1 Axes>"
      ]
     },
     "metadata": {},
     "output_type": "display_data"
    }
   ],
   "source": [
    "fig, ax = plt.subplots()\n",
    "ax.plot(df_299.index, df_299[\"Value\"], label=\"1C after HE\")\n",
    "ax.plot(df_315.index, df_315[\"Value\"], label=\"1C before HE\")\n",
    "plt.xticks(rotation=90)\n",
    "plt.legend()\n",
    "plt.show()"
   ]
  },
  {
   "cell_type": "code",
   "execution_count": 291,
   "id": "a2b61322",
   "metadata": {},
   "outputs": [],
   "source": []
  },
  {
   "cell_type": "code",
   "execution_count": 292,
   "id": "a70cbb3e",
   "metadata": {},
   "outputs": [
    {
     "data": {
      "image/png": "[encoded data removed]",
      "text/plain": [
       "<Figure size 640x480 with 1 Axes>"
      ]
     },
     "metadata": {},
     "output_type": "display_data"
    }
   ],
   "source": []
  },
  {
   "cell_type": "code",
   "execution_count": null,
   "id": "0c99ce78",
   "metadata": {},
   "outputs": [],
   "source": []
  }
 ],
 "metadata": {
  "kernelspec": {
   "display_name": "Python 3 (ipykernel)",
   "language": "python",
   "name": "python3"
  },
  "language_info": {
   "codemirror_mode": {
    "name": "ipython",
    "version": 3
   },
   "file_extension": ".py",
   "mimetype": "text/x-python",
   "name": "python",
   "nbconvert_exporter": "python",
   "pygments_lexer": "ipython3",
   "version": "3.10.0"
  }
 },
 "nbformat": 4,
 "nbformat_minor": 5
}
