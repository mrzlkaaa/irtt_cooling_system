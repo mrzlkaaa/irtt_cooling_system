{
 "cells": [
  {
   "cell_type": "code",
   "execution_count": 1,
   "id": "9e74d836",
   "metadata": {},
   "outputs": [],
   "source": [
    "import os\n",
    "import numpy as np\n",
    "import pandas as pd\n",
    "from matplotlib import pyplot as plt"
   ]
  },
  {
   "cell_type": "markdown",
   "id": "7b4bcf89",
   "metadata": {},
   "source": [
    "* 299 Т1к после ТО\n",
    "* 315 Т1к перед ТО\n",
    "\n",
    "* 317 Т2к перед ТО\n",
    "* 319 Т2к после ТО\n",
    "\n",
    "* 325 Т2к выхТО1\n",
    "* 460 Т2к выхТО2\n",
    "* 461 Т2к выхТО3\n",
    "* 462 Т2к выхТО4\n",
    "* 463 Т2к выхТО5\n",
    "\n",
    "* 480 Q1контура\n",
    "* 481 Q2контура\n",
    "\n",
    "* 307 P1контура\n",
    "* 309 Р2контура\n",
    "\n",
    "* 327 Твозвуха\n",
    "* 313 Рградирни\n",
    "\n",
    "* 381 Iвг1\n",
    "* 395 Iвг2\n",
    "* 396 Iвг3\n"
   ]
  },
  {
   "cell_type": "code",
   "execution_count": 2,
   "id": "0faf433e",
   "metadata": {},
   "outputs": [],
   "source": [
    "# df_init = pd.read_csv(os.path.join(os.path.dirname(os.path.abspath(\"\")),\n",
    "#                                    \"4october_8december_2022.csv\"), on_bad_lines='skip')\n",
    "df_init = pd.read_csv(os.path.join(os.path.dirname(os.path.abspath(\"\")),\n",
    "                                   \"041022_to_231222.csv\"), on_bad_lines='skip')"
   ]
  },
  {
   "cell_type": "code",
   "execution_count": 3,
   "id": "b19ded4e",
   "metadata": {},
   "outputs": [
    {
     "data": {
      "text/html": [
       "<div>\n",
       "<style scoped>\n",
       "    .dataframe tbody tr th:only-of-type {\n",
       "        vertical-align: middle;\n",
       "    }\n",
       "\n",
       "    .dataframe tbody tr th {\n",
       "        vertical-align: top;\n",
       "    }\n",
       "\n",
       "    .dataframe thead th {\n",
       "        text-align: right;\n",
       "    }\n",
       "</style>\n",
       "<table border=\"1\" class=\"dataframe\">\n",
       "  <thead>\n",
       "    <tr style=\"text-align: right;\">\n",
       "      <th></th>\n",
       "      <th>ID</th>\n",
       "      <th>Timestamp</th>\n",
       "      <th>Value</th>\n",
       "      <th>Quality</th>\n",
       "    </tr>\n",
       "  </thead>\n",
       "  <tbody>\n",
       "    <tr>\n",
       "      <th>0</th>\n",
       "      <td>299</td>\n",
       "      <td>2022-10-04 09:07:23.313</td>\n",
       "      <td>0.0</td>\n",
       "      <td>2</td>\n",
       "    </tr>\n",
       "    <tr>\n",
       "      <th>1</th>\n",
       "      <td>299</td>\n",
       "      <td>2022-10-04 09:07:23.328</td>\n",
       "      <td>0.0</td>\n",
       "      <td>0</td>\n",
       "    </tr>\n",
       "    <tr>\n",
       "      <th>2</th>\n",
       "      <td>299</td>\n",
       "      <td>2022-10-04 09:07:29.825</td>\n",
       "      <td>23.0</td>\n",
       "      <td>1</td>\n",
       "    </tr>\n",
       "    <tr>\n",
       "      <th>3</th>\n",
       "      <td>299</td>\n",
       "      <td>2022-10-04 09:07:58.075</td>\n",
       "      <td>23.0</td>\n",
       "      <td>1</td>\n",
       "    </tr>\n",
       "    <tr>\n",
       "      <th>4</th>\n",
       "      <td>299</td>\n",
       "      <td>2022-10-04 09:08:00.092</td>\n",
       "      <td>23.0</td>\n",
       "      <td>1</td>\n",
       "    </tr>\n",
       "    <tr>\n",
       "      <th>5</th>\n",
       "      <td>299</td>\n",
       "      <td>2022-10-04 09:08:02.092</td>\n",
       "      <td>23.0</td>\n",
       "      <td>1</td>\n",
       "    </tr>\n",
       "    <tr>\n",
       "      <th>6</th>\n",
       "      <td>299</td>\n",
       "      <td>2022-10-04 09:08:59.126</td>\n",
       "      <td>23.0</td>\n",
       "      <td>1</td>\n",
       "    </tr>\n",
       "    <tr>\n",
       "      <th>7</th>\n",
       "      <td>299</td>\n",
       "      <td>2022-10-04 09:09:01.126</td>\n",
       "      <td>23.0</td>\n",
       "      <td>1</td>\n",
       "    </tr>\n",
       "    <tr>\n",
       "      <th>8</th>\n",
       "      <td>299</td>\n",
       "      <td>2022-10-04 09:09:03.126</td>\n",
       "      <td>23.0</td>\n",
       "      <td>1</td>\n",
       "    </tr>\n",
       "    <tr>\n",
       "      <th>9</th>\n",
       "      <td>299</td>\n",
       "      <td>2022-10-04 09:09:59.644</td>\n",
       "      <td>23.0</td>\n",
       "      <td>1</td>\n",
       "    </tr>\n",
       "  </tbody>\n",
       "</table>\n",
       "</div>"
      ],
      "text/plain": [
       "    ID                Timestamp  Value  Quality\n",
       "0  299  2022-10-04 09:07:23.313    0.0        2\n",
       "1  299  2022-10-04 09:07:23.328    0.0        0\n",
       "2  299  2022-10-04 09:07:29.825   23.0        1\n",
       "3  299  2022-10-04 09:07:58.075   23.0        1\n",
       "4  299  2022-10-04 09:08:00.092   23.0        1\n",
       "5  299  2022-10-04 09:08:02.092   23.0        1\n",
       "6  299  2022-10-04 09:08:59.126   23.0        1\n",
       "7  299  2022-10-04 09:09:01.126   23.0        1\n",
       "8  299  2022-10-04 09:09:03.126   23.0        1\n",
       "9  299  2022-10-04 09:09:59.644   23.0        1"
      ]
     },
     "execution_count": 3,
     "metadata": {},
     "output_type": "execute_result"
    }
   ],
   "source": [
    "df_init.head(10)"
   ]
  },
  {
   "cell_type": "code",
   "execution_count": 4,
   "id": "7c456844",
   "metadata": {},
   "outputs": [
    {
     "data": {
      "text/html": [
       "<div>\n",
       "<style scoped>\n",
       "    .dataframe tbody tr th:only-of-type {\n",
       "        vertical-align: middle;\n",
       "    }\n",
       "\n",
       "    .dataframe tbody tr th {\n",
       "        vertical-align: top;\n",
       "    }\n",
       "\n",
       "    .dataframe thead th {\n",
       "        text-align: right;\n",
       "    }\n",
       "</style>\n",
       "<table border=\"1\" class=\"dataframe\">\n",
       "  <thead>\n",
       "    <tr style=\"text-align: right;\">\n",
       "      <th></th>\n",
       "      <th>ID</th>\n",
       "      <th>Timestamp</th>\n",
       "      <th>Value</th>\n",
       "      <th>Quality</th>\n",
       "    </tr>\n",
       "  </thead>\n",
       "  <tbody>\n",
       "    <tr>\n",
       "      <th>2314333</th>\n",
       "      <td>481</td>\n",
       "      <td>2022-12-23 18:33:32.611</td>\n",
       "      <td>0.0</td>\n",
       "      <td>0</td>\n",
       "    </tr>\n",
       "    <tr>\n",
       "      <th>2314334</th>\n",
       "      <td>481</td>\n",
       "      <td>2022-12-23 19:32:32.611</td>\n",
       "      <td>0.0</td>\n",
       "      <td>0</td>\n",
       "    </tr>\n",
       "    <tr>\n",
       "      <th>2314335</th>\n",
       "      <td>481</td>\n",
       "      <td>2022-12-23 20:31:32.611</td>\n",
       "      <td>0.0</td>\n",
       "      <td>0</td>\n",
       "    </tr>\n",
       "    <tr>\n",
       "      <th>2314336</th>\n",
       "      <td>481</td>\n",
       "      <td>2022-12-23 21:30:32.611</td>\n",
       "      <td>0.0</td>\n",
       "      <td>0</td>\n",
       "    </tr>\n",
       "    <tr>\n",
       "      <th>2314337</th>\n",
       "      <td>481</td>\n",
       "      <td>2022-12-23 22:29:32.611</td>\n",
       "      <td>0.0</td>\n",
       "      <td>0</td>\n",
       "    </tr>\n",
       "  </tbody>\n",
       "</table>\n",
       "</div>"
      ],
      "text/plain": [
       "          ID                Timestamp  Value  Quality\n",
       "2314333  481  2022-12-23 18:33:32.611    0.0        0\n",
       "2314334  481  2022-12-23 19:32:32.611    0.0        0\n",
       "2314335  481  2022-12-23 20:31:32.611    0.0        0\n",
       "2314336  481  2022-12-23 21:30:32.611    0.0        0\n",
       "2314337  481  2022-12-23 22:29:32.611    0.0        0"
      ]
     },
     "execution_count": 4,
     "metadata": {},
     "output_type": "execute_result"
    }
   ],
   "source": [
    "df_init.tail()"
   ]
  },
  {
   "cell_type": "code",
   "execution_count": 5,
   "id": "d638fd13",
   "metadata": {},
   "outputs": [
    {
     "name": "stdout",
     "output_type": "stream",
     "text": [
      "<class 'pandas.core.frame.DataFrame'>\n",
      "RangeIndex: 2314338 entries, 0 to 2314337\n",
      "Data columns (total 4 columns):\n",
      " #   Column     Dtype  \n",
      "---  ------     -----  \n",
      " 0   ID         int64  \n",
      " 1   Timestamp  object \n",
      " 2   Value      float64\n",
      " 3   Quality    int64  \n",
      "dtypes: float64(1), int64(2), object(1)\n",
      "memory usage: 70.6+ MB\n"
     ]
    }
   ],
   "source": [
    "df_init.info()"
   ]
  },
  {
   "cell_type": "code",
   "execution_count": 7,
   "id": "5d39be60",
   "metadata": {},
   "outputs": [
    {
     "data": {
      "text/plain": [
       "array([299, 307, 309, 313, 315, 317, 319, 325, 327, 381, 395, 396, 460,\n",
       "       461, 462, 463, 480, 481])"
      ]
     },
     "execution_count": 7,
     "metadata": {},
     "output_type": "execute_result"
    }
   ],
   "source": [
    "df_init[\"ID\"].unique()"
   ]
  },
  {
   "cell_type": "code",
   "execution_count": 53,
   "id": "8cfe599f",
   "metadata": {},
   "outputs": [],
   "source": [
    "# change datetime format to \"%m/%d/%Y, %H:%M\"\n",
    "df_init[\"Timestamp\"] = pd.to_datetime(df_init[\"Timestamp\"], format=\"%Y-%m-%dT%H:%M\")"
   ]
  },
  {
   "cell_type": "code",
   "execution_count": 54,
   "id": "c287ddbc",
   "metadata": {},
   "outputs": [
    {
     "data": {
      "text/html": [
       "<div>\n",
       "<style scoped>\n",
       "    .dataframe tbody tr th:only-of-type {\n",
       "        vertical-align: middle;\n",
       "    }\n",
       "\n",
       "    .dataframe tbody tr th {\n",
       "        vertical-align: top;\n",
       "    }\n",
       "\n",
       "    .dataframe thead th {\n",
       "        text-align: right;\n",
       "    }\n",
       "</style>\n",
       "<table border=\"1\" class=\"dataframe\">\n",
       "  <thead>\n",
       "    <tr style=\"text-align: right;\">\n",
       "      <th></th>\n",
       "      <th>ID</th>\n",
       "      <th>Timestamp</th>\n",
       "      <th>Value</th>\n",
       "      <th>Quality</th>\n",
       "    </tr>\n",
       "  </thead>\n",
       "  <tbody>\n",
       "    <tr>\n",
       "      <th>0</th>\n",
       "      <td>299</td>\n",
       "      <td>2022-10-04 09:07:23.313</td>\n",
       "      <td>0.0</td>\n",
       "      <td>2</td>\n",
       "    </tr>\n",
       "    <tr>\n",
       "      <th>1</th>\n",
       "      <td>299</td>\n",
       "      <td>2022-10-04 09:07:23.328</td>\n",
       "      <td>0.0</td>\n",
       "      <td>0</td>\n",
       "    </tr>\n",
       "    <tr>\n",
       "      <th>2</th>\n",
       "      <td>299</td>\n",
       "      <td>2022-10-04 09:07:29.825</td>\n",
       "      <td>23.0</td>\n",
       "      <td>1</td>\n",
       "    </tr>\n",
       "    <tr>\n",
       "      <th>3</th>\n",
       "      <td>299</td>\n",
       "      <td>2022-10-04 09:07:58.075</td>\n",
       "      <td>23.0</td>\n",
       "      <td>1</td>\n",
       "    </tr>\n",
       "    <tr>\n",
       "      <th>4</th>\n",
       "      <td>299</td>\n",
       "      <td>2022-10-04 09:08:00.092</td>\n",
       "      <td>23.0</td>\n",
       "      <td>1</td>\n",
       "    </tr>\n",
       "    <tr>\n",
       "      <th>5</th>\n",
       "      <td>299</td>\n",
       "      <td>2022-10-04 09:08:02.092</td>\n",
       "      <td>23.0</td>\n",
       "      <td>1</td>\n",
       "    </tr>\n",
       "    <tr>\n",
       "      <th>6</th>\n",
       "      <td>299</td>\n",
       "      <td>2022-10-04 09:08:59.126</td>\n",
       "      <td>23.0</td>\n",
       "      <td>1</td>\n",
       "    </tr>\n",
       "    <tr>\n",
       "      <th>7</th>\n",
       "      <td>299</td>\n",
       "      <td>2022-10-04 09:09:01.126</td>\n",
       "      <td>23.0</td>\n",
       "      <td>1</td>\n",
       "    </tr>\n",
       "    <tr>\n",
       "      <th>8</th>\n",
       "      <td>299</td>\n",
       "      <td>2022-10-04 09:09:03.126</td>\n",
       "      <td>23.0</td>\n",
       "      <td>1</td>\n",
       "    </tr>\n",
       "    <tr>\n",
       "      <th>9</th>\n",
       "      <td>299</td>\n",
       "      <td>2022-10-04 09:09:59.644</td>\n",
       "      <td>23.0</td>\n",
       "      <td>1</td>\n",
       "    </tr>\n",
       "  </tbody>\n",
       "</table>\n",
       "</div>"
      ],
      "text/plain": [
       "    ID               Timestamp  Value  Quality\n",
       "0  299 2022-10-04 09:07:23.313    0.0        2\n",
       "1  299 2022-10-04 09:07:23.328    0.0        0\n",
       "2  299 2022-10-04 09:07:29.825   23.0        1\n",
       "3  299 2022-10-04 09:07:58.075   23.0        1\n",
       "4  299 2022-10-04 09:08:00.092   23.0        1\n",
       "5  299 2022-10-04 09:08:02.092   23.0        1\n",
       "6  299 2022-10-04 09:08:59.126   23.0        1\n",
       "7  299 2022-10-04 09:09:01.126   23.0        1\n",
       "8  299 2022-10-04 09:09:03.126   23.0        1\n",
       "9  299 2022-10-04 09:09:59.644   23.0        1"
      ]
     },
     "execution_count": 54,
     "metadata": {},
     "output_type": "execute_result"
    }
   ],
   "source": [
    "df_init.head(10)"
   ]
  },
  {
   "cell_type": "code",
   "execution_count": 55,
   "id": "a2b55158",
   "metadata": {},
   "outputs": [
    {
     "name": "stdout",
     "output_type": "stream",
     "text": [
      "<class 'pandas.core.frame.DataFrame'>\n",
      "RangeIndex: 2314338 entries, 0 to 2314337\n",
      "Data columns (total 4 columns):\n",
      " #   Column     Dtype         \n",
      "---  ------     -----         \n",
      " 0   ID         int64         \n",
      " 1   Timestamp  datetime64[ns]\n",
      " 2   Value      float64       \n",
      " 3   Quality    int64         \n",
      "dtypes: datetime64[ns](1), float64(1), int64(2)\n",
      "memory usage: 70.6 MB\n"
     ]
    }
   ],
   "source": [
    "df_init.info()"
   ]
  },
  {
   "cell_type": "code",
   "execution_count": 56,
   "id": "20541736",
   "metadata": {},
   "outputs": [
    {
     "data": {
      "text/plain": [
       "1    2307699\n",
       "0       5026\n",
       "2       1109\n",
       "3        504\n",
       "Name: Quality, dtype: int64"
      ]
     },
     "execution_count": 56,
     "metadata": {},
     "output_type": "execute_result"
    }
   ],
   "source": [
    "df_init[\"Quality\"].value_counts()"
   ]
  },
  {
   "cell_type": "code",
   "execution_count": 57,
   "id": "8e21098e",
   "metadata": {},
   "outputs": [
    {
     "data": {
      "text/plain": [
       "1    2307699\n",
       "0       5026\n",
       "Name: Quality, dtype: int64"
      ]
     },
     "execution_count": 57,
     "metadata": {},
     "output_type": "execute_result"
    }
   ],
   "source": [
    "# drop all rows where Quality value is not 1 or 0\n",
    "df_init = df_init[(df_init[\"Quality\"] == 1) | (df_init[\"Quality\"] == 0)]\n",
    "df_init[\"Quality\"].value_counts()"
   ]
  },
  {
   "cell_type": "code",
   "execution_count": 58,
   "id": "b71f248f",
   "metadata": {},
   "outputs": [
    {
     "data": {
      "text/plain": [
       "(159833, 160477, 194528)"
      ]
     },
     "execution_count": 58,
     "metadata": {},
     "output_type": "execute_result"
    }
   ],
   "source": [
    "#create few df_ids\n",
    "df_299 = df_init[df_init[\"ID\"] == 299]\n",
    "df_315 = df_init[df_init[\"ID\"] == 315]\n",
    "df_481 = df_init[df_init[\"ID\"] == 481]\n",
    "len(df_299), len(df_315), len(df_481)"
   ]
  },
  {
   "cell_type": "code",
   "execution_count": 59,
   "id": "367fe6b3",
   "metadata": {},
   "outputs": [
    {
     "name": "stdout",
     "output_type": "stream",
     "text": [
      "<class 'pandas.core.frame.DataFrame'>\n",
      "Int64Index: 159833 entries, 1 to 159922\n",
      "Data columns (total 4 columns):\n",
      " #   Column     Non-Null Count   Dtype         \n",
      "---  ------     --------------   -----         \n",
      " 0   ID         159833 non-null  int64         \n",
      " 1   Timestamp  159833 non-null  datetime64[ns]\n",
      " 2   Value      159833 non-null  float64       \n",
      " 3   Quality    159833 non-null  int64         \n",
      "dtypes: datetime64[ns](1), float64(1), int64(2)\n",
      "memory usage: 6.1 MB\n"
     ]
    }
   ],
   "source": [
    "df_299.info()"
   ]
  },
  {
   "cell_type": "code",
   "execution_count": 60,
   "id": "463c5674",
   "metadata": {},
   "outputs": [],
   "source": [
    "df_299 = df_299.set_index(\"Timestamp\")"
   ]
  },
  {
   "cell_type": "code",
   "execution_count": 61,
   "id": "b64faa65",
   "metadata": {},
   "outputs": [],
   "source": [
    "df_315 = df_315.set_index(\"Timestamp\")"
   ]
  },
  {
   "cell_type": "code",
   "execution_count": 62,
   "id": "6751cbe8",
   "metadata": {},
   "outputs": [],
   "source": [
    "df_481 = df_481.set_index(\"Timestamp\")"
   ]
  },
  {
   "cell_type": "markdown",
   "id": "bb5bb9dd",
   "metadata": {},
   "source": [
    "## Before use groupby  on dfs better to drop unused columns (ids, quality)"
   ]
  },
  {
   "cell_type": "code",
   "execution_count": 63,
   "id": "028f35ad",
   "metadata": {},
   "outputs": [],
   "source": [
    "# to visualize how temperature difference changes over a time need to remove rows with quality=0\n",
    "df_299_operated = df_299[df_299[\"Quality\"] == 1]\n",
    "df_315_operated = df_315[df_315[\"Quality\"] == 1]\n",
    "df_481_operated = df_481[df_481[\"Quality\"] == 1]"
   ]
  },
  {
   "cell_type": "code",
   "execution_count": 64,
   "id": "8fc63afc",
   "metadata": {},
   "outputs": [
    {
     "data": {
      "text/plain": [
       "(23119, 23119, 23119)"
      ]
     },
     "execution_count": 64,
     "metadata": {},
     "output_type": "execute_result"
    }
   ],
   "source": [
    "df_299_operated_mean = df_299_operated.groupby(pd.Grouper(freq=\"5min\")).mean()\n",
    "df_315_operated_mean = df_315_operated.groupby(pd.Grouper(freq=\"5min\")).mean()\n",
    "df_481_operated_mean = df_481_operated.groupby(pd.Grouper(freq=\"5min\")).mean()\n",
    "len(df_299_operated_mean), len(df_315_operated_mean), len(df_481_operated_mean)"
   ]
  },
  {
   "cell_type": "code",
   "execution_count": 65,
   "id": "443ac312",
   "metadata": {},
   "outputs": [
    {
     "data": {
      "text/plain": [
       "Timestamp\n",
       "2022-10-04 09:05:00    0.299999\n",
       "2022-10-04 09:10:00    0.299999\n",
       "2022-10-04 09:15:00    0.306249\n",
       "2022-10-04 09:20:00    0.373684\n",
       "2022-10-04 09:25:00    0.400000\n",
       "                         ...   \n",
       "2022-12-23 15:15:00    3.175000\n",
       "2022-12-23 15:20:00    2.540000\n",
       "2022-12-23 15:25:00    2.025000\n",
       "2022-12-23 15:30:00    1.775000\n",
       "2022-12-23 15:35:00    1.985714\n",
       "Freq: 5T, Name: Value, Length: 23119, dtype: float64"
      ]
     },
     "execution_count": 65,
     "metadata": {},
     "output_type": "execute_result"
    }
   ],
   "source": [
    "df_315_299_diff_mean = df_315_operated_mean - df_299_operated_mean\n",
    "df_315_299_diff_mean = df_315_299_diff_mean.drop([\"ID\", \"Quality\"], axis=1)\n",
    "# df_315_299_diff_mean = df_315_299_diff_mean[df_315_299_diff_mean[\"Value\"] > 0]\n",
    "df_315_299_diff_mean.loc[:, \"Value\"]"
   ]
  },
  {
   "cell_type": "code",
   "execution_count": 71,
   "id": "f468a5be",
   "metadata": {},
   "outputs": [
    {
     "data": {
      "image/png": "[encoded data removed]",
      "text/plain": [
       "<Figure size 640x480 with 1 Axes>"
      ]
     },
     "metadata": {},
     "output_type": "display_data"
    }
   ],
   "source": [
    "plt.plot(df_481_operated_mean.index, df_481_operated_mean[\"Value\"])\n",
    "plt.xticks(rotation=90)\n",
    "plt.show()"
   ]
  },
  {
   "cell_type": "code",
   "execution_count": 192,
   "id": "a5447a6b",
   "metadata": {},
   "outputs": [],
   "source": [
    "# split on periods when on power\n",
    "df_481_1017_1021 = df_481_operated_mean.loc[\"2022-10-17\":\"2022-10-21\"]\n",
    "df_481_1115_1118 = df_481_operated_mean.loc[\"2022-11-15\":\"2022-11-18\"]\n",
    "df_481_1129_1202 = df_481_operated_mean.loc[\"2022-11-29\":\"2022-12-02\"]\n",
    "df_481_1219_1223 = df_481_operated_mean.loc[\"2022-12-19\":\"2022-12-23\"]"
   ]
  },
  {
   "cell_type": "code",
   "execution_count": 193,
   "id": "3b410fa5",
   "metadata": {},
   "outputs": [],
   "source": [
    "df_481_1017_1021 = df_481_1017_1021[df_481_1017_1021[\"Value\"] > 0]\n",
    "df_481_1115_1118 = df_481_1115_1118[df_481_1115_1118[\"Value\"] > 0]\n",
    "df_481_1129_1202 = df_481_1129_1202[df_481_1129_1202[\"Value\"] > 0]\n",
    "df_481_1219_1223 = df_481_1219_1223[df_481_1219_1223[\"Value\"] > 0]"
   ]
  },
  {
   "cell_type": "code",
   "execution_count": 194,
   "id": "3b69b2dd",
   "metadata": {},
   "outputs": [],
   "source": [
    "df_481_1017_1021 = df_481_1017_1021.dropna()\n",
    "df_481_1115_1118 = df_481_1115_1118.dropna()\n",
    "df_481_1129_1202 = df_481_1129_1202.dropna()\n",
    "df_481_1219_1223 = df_481_1219_1223.dropna()"
   ]
  },
  {
   "cell_type": "code",
   "execution_count": 195,
   "id": "6ef72266",
   "metadata": {},
   "outputs": [
    {
     "data": {
      "text/plain": [
       "(758.109248166607, 730.2654752286231, 686.0955373812602, 624.010558183592)"
      ]
     },
     "execution_count": 195,
     "metadata": {},
     "output_type": "execute_result"
    }
   ],
   "source": [
    "df_481_1017_1021_mean = df_481_1017_1021[\"Value\"].mean()\n",
    "df_481_1115_1118_mean = df_481_1115_1118[\"Value\"].mean()\n",
    "df_481_1129_1202_mean = df_481_1129_1202[\"Value\"].mean()\n",
    "df_481_1219_1223_mean = df_481_1219_1223[\"Value\"].mean()\n",
    "df_481_1017_1021_mean, df_481_1115_1118_mean, df_481_1129_1202_mean, df_481_1219_1223_mean"
   ]
  },
  {
   "cell_type": "code",
   "execution_count": 161,
   "id": "7e2dcacf",
   "metadata": {},
   "outputs": [
    {
     "data": {
      "text/html": [
       "<div>\n",
       "<style scoped>\n",
       "    .dataframe tbody tr th:only-of-type {\n",
       "        vertical-align: middle;\n",
       "    }\n",
       "\n",
       "    .dataframe tbody tr th {\n",
       "        vertical-align: top;\n",
       "    }\n",
       "\n",
       "    .dataframe thead th {\n",
       "        text-align: right;\n",
       "    }\n",
       "</style>\n",
       "<table border=\"1\" class=\"dataframe\">\n",
       "  <thead>\n",
       "    <tr style=\"text-align: right;\">\n",
       "      <th></th>\n",
       "      <th>ID</th>\n",
       "      <th>Value</th>\n",
       "      <th>Quality</th>\n",
       "    </tr>\n",
       "    <tr>\n",
       "      <th>Timestamp</th>\n",
       "      <th></th>\n",
       "      <th></th>\n",
       "      <th></th>\n",
       "    </tr>\n",
       "  </thead>\n",
       "  <tbody>\n",
       "    <tr>\n",
       "      <th>2022-10-17 15:10:00</th>\n",
       "      <td>481.0</td>\n",
       "      <td>757.15</td>\n",
       "      <td>1.0</td>\n",
       "    </tr>\n",
       "    <tr>\n",
       "      <th>2022-10-17 15:15:00</th>\n",
       "      <td>481.0</td>\n",
       "      <td>756.95</td>\n",
       "      <td>1.0</td>\n",
       "    </tr>\n",
       "    <tr>\n",
       "      <th>2022-10-17 15:20:00</th>\n",
       "      <td>481.0</td>\n",
       "      <td>757.30</td>\n",
       "      <td>1.0</td>\n",
       "    </tr>\n",
       "    <tr>\n",
       "      <th>2022-10-17 15:25:00</th>\n",
       "      <td>481.0</td>\n",
       "      <td>756.90</td>\n",
       "      <td>1.0</td>\n",
       "    </tr>\n",
       "    <tr>\n",
       "      <th>2022-10-17 15:30:00</th>\n",
       "      <td>481.0</td>\n",
       "      <td>758.70</td>\n",
       "      <td>1.0</td>\n",
       "    </tr>\n",
       "    <tr>\n",
       "      <th>...</th>\n",
       "      <td>...</td>\n",
       "      <td>...</td>\n",
       "      <td>...</td>\n",
       "    </tr>\n",
       "    <tr>\n",
       "      <th>2022-10-21 19:10:00</th>\n",
       "      <td>481.0</td>\n",
       "      <td>741.35</td>\n",
       "      <td>1.0</td>\n",
       "    </tr>\n",
       "    <tr>\n",
       "      <th>2022-10-21 19:15:00</th>\n",
       "      <td>481.0</td>\n",
       "      <td>741.35</td>\n",
       "      <td>1.0</td>\n",
       "    </tr>\n",
       "    <tr>\n",
       "      <th>2022-10-21 19:20:00</th>\n",
       "      <td>481.0</td>\n",
       "      <td>739.75</td>\n",
       "      <td>1.0</td>\n",
       "    </tr>\n",
       "    <tr>\n",
       "      <th>2022-10-21 19:25:00</th>\n",
       "      <td>481.0</td>\n",
       "      <td>738.55</td>\n",
       "      <td>1.0</td>\n",
       "    </tr>\n",
       "    <tr>\n",
       "      <th>2022-10-21 19:30:00</th>\n",
       "      <td>481.0</td>\n",
       "      <td>739.90</td>\n",
       "      <td>1.0</td>\n",
       "    </tr>\n",
       "  </tbody>\n",
       "</table>\n",
       "<p>1204 rows × 3 columns</p>\n",
       "</div>"
      ],
      "text/plain": [
       "                        ID   Value  Quality\n",
       "Timestamp                                  \n",
       "2022-10-17 15:10:00  481.0  757.15      1.0\n",
       "2022-10-17 15:15:00  481.0  756.95      1.0\n",
       "2022-10-17 15:20:00  481.0  757.30      1.0\n",
       "2022-10-17 15:25:00  481.0  756.90      1.0\n",
       "2022-10-17 15:30:00  481.0  758.70      1.0\n",
       "...                    ...     ...      ...\n",
       "2022-10-21 19:10:00  481.0  741.35      1.0\n",
       "2022-10-21 19:15:00  481.0  741.35      1.0\n",
       "2022-10-21 19:20:00  481.0  739.75      1.0\n",
       "2022-10-21 19:25:00  481.0  738.55      1.0\n",
       "2022-10-21 19:30:00  481.0  739.90      1.0\n",
       "\n",
       "[1204 rows x 3 columns]"
      ]
     },
     "execution_count": 161,
     "metadata": {},
     "output_type": "execute_result"
    }
   ],
   "source": [
    "# drop all rows where value more than mean +- 50\n",
    "df_481_1017_1021_filtered = df_481_1017_1021[(df_481_1017_1021[\"Value\"] < df_481_1017_1021_mean+50) & (df_481_1017_1021[\"Value\"] > df_481_1017_1021_mean-50)]\n",
    "df_481_1017_1021_filtered"
   ]
  },
  {
   "cell_type": "code",
   "execution_count": 162,
   "id": "6e1899e5",
   "metadata": {},
   "outputs": [
    {
     "data": {
      "text/plain": [
       "(array([19282.5, 19283. , 19283.5, 19284. , 19284.5, 19285. , 19285.5,\n",
       "        19286. , 19286.5, 19287. ]),\n",
       " [Text(19282.5, 0, '10-17 12'),\n",
       "  Text(19283.0, 0, '10-18 00'),\n",
       "  Text(19283.5, 0, '10-18 12'),\n",
       "  Text(19284.0, 0, '10-19 00'),\n",
       "  Text(19284.5, 0, '10-19 12'),\n",
       "  Text(19285.0, 0, '10-20 00'),\n",
       "  Text(19285.5, 0, '10-20 12'),\n",
       "  Text(19286.0, 0, '10-21 00'),\n",
       "  Text(19286.5, 0, '10-21 12'),\n",
       "  Text(19287.0, 0, '10-22 00')])"
      ]
     },
     "execution_count": 162,
     "metadata": {},
     "output_type": "execute_result"
    },
    {
     "data": {
      "image/png": "[encoded data removed]",
      "text/plain": [
       "<Figure size 640x480 with 1 Axes>"
      ]
     },
     "metadata": {},
     "output_type": "display_data"
    }
   ],
   "source": [
    "plt.plot(df_481_1017_1021_filtered.index, df_481_1017_1021_filtered[\"Value\"])\n",
    "plt.xticks(rotation=90)"
   ]
  },
  {
   "cell_type": "code",
   "execution_count": 196,
   "id": "2dc7b056",
   "metadata": {},
   "outputs": [
    {
     "data": {
      "text/html": [
       "<div>\n",
       "<style scoped>\n",
       "    .dataframe tbody tr th:only-of-type {\n",
       "        vertical-align: middle;\n",
       "    }\n",
       "\n",
       "    .dataframe tbody tr th {\n",
       "        vertical-align: top;\n",
       "    }\n",
       "\n",
       "    .dataframe thead th {\n",
       "        text-align: right;\n",
       "    }\n",
       "</style>\n",
       "<table border=\"1\" class=\"dataframe\">\n",
       "  <thead>\n",
       "    <tr style=\"text-align: right;\">\n",
       "      <th></th>\n",
       "      <th>ID</th>\n",
       "      <th>Value</th>\n",
       "      <th>Quality</th>\n",
       "    </tr>\n",
       "    <tr>\n",
       "      <th>Timestamp</th>\n",
       "      <th></th>\n",
       "      <th></th>\n",
       "      <th></th>\n",
       "    </tr>\n",
       "  </thead>\n",
       "  <tbody>\n",
       "    <tr>\n",
       "      <th>2022-11-15 17:20:00</th>\n",
       "      <td>481.0</td>\n",
       "      <td>734.55</td>\n",
       "      <td>1.0</td>\n",
       "    </tr>\n",
       "    <tr>\n",
       "      <th>2022-11-15 17:25:00</th>\n",
       "      <td>481.0</td>\n",
       "      <td>734.80</td>\n",
       "      <td>1.0</td>\n",
       "    </tr>\n",
       "    <tr>\n",
       "      <th>2022-11-15 17:30:00</th>\n",
       "      <td>481.0</td>\n",
       "      <td>735.95</td>\n",
       "      <td>1.0</td>\n",
       "    </tr>\n",
       "    <tr>\n",
       "      <th>2022-11-15 17:35:00</th>\n",
       "      <td>481.0</td>\n",
       "      <td>735.45</td>\n",
       "      <td>1.0</td>\n",
       "    </tr>\n",
       "    <tr>\n",
       "      <th>2022-11-15 17:40:00</th>\n",
       "      <td>481.0</td>\n",
       "      <td>736.75</td>\n",
       "      <td>1.0</td>\n",
       "    </tr>\n",
       "    <tr>\n",
       "      <th>...</th>\n",
       "      <td>...</td>\n",
       "      <td>...</td>\n",
       "      <td>...</td>\n",
       "    </tr>\n",
       "    <tr>\n",
       "      <th>2022-11-18 15:10:00</th>\n",
       "      <td>481.0</td>\n",
       "      <td>711.30</td>\n",
       "      <td>1.0</td>\n",
       "    </tr>\n",
       "    <tr>\n",
       "      <th>2022-11-18 15:15:00</th>\n",
       "      <td>481.0</td>\n",
       "      <td>710.00</td>\n",
       "      <td>1.0</td>\n",
       "    </tr>\n",
       "    <tr>\n",
       "      <th>2022-11-18 15:20:00</th>\n",
       "      <td>481.0</td>\n",
       "      <td>710.65</td>\n",
       "      <td>1.0</td>\n",
       "    </tr>\n",
       "    <tr>\n",
       "      <th>2022-11-18 15:25:00</th>\n",
       "      <td>481.0</td>\n",
       "      <td>709.75</td>\n",
       "      <td>1.0</td>\n",
       "    </tr>\n",
       "    <tr>\n",
       "      <th>2022-11-18 15:30:00</th>\n",
       "      <td>481.0</td>\n",
       "      <td>718.45</td>\n",
       "      <td>1.0</td>\n",
       "    </tr>\n",
       "  </tbody>\n",
       "</table>\n",
       "<p>843 rows × 3 columns</p>\n",
       "</div>"
      ],
      "text/plain": [
       "                        ID   Value  Quality\n",
       "Timestamp                                  \n",
       "2022-11-15 17:20:00  481.0  734.55      1.0\n",
       "2022-11-15 17:25:00  481.0  734.80      1.0\n",
       "2022-11-15 17:30:00  481.0  735.95      1.0\n",
       "2022-11-15 17:35:00  481.0  735.45      1.0\n",
       "2022-11-15 17:40:00  481.0  736.75      1.0\n",
       "...                    ...     ...      ...\n",
       "2022-11-18 15:10:00  481.0  711.30      1.0\n",
       "2022-11-18 15:15:00  481.0  710.00      1.0\n",
       "2022-11-18 15:20:00  481.0  710.65      1.0\n",
       "2022-11-18 15:25:00  481.0  709.75      1.0\n",
       "2022-11-18 15:30:00  481.0  718.45      1.0\n",
       "\n",
       "[843 rows x 3 columns]"
      ]
     },
     "execution_count": 196,
     "metadata": {},
     "output_type": "execute_result"
    }
   ],
   "source": [
    "df_481_1115_1118_filtered = df_481_1115_1118[(df_481_1115_1118[\"Value\"] < df_481_1115_1118_mean+50) & (df_481_1115_1118[\"Value\"] > df_481_1115_1118_mean-50)]\n",
    "df_481_1115_1118_filtered"
   ]
  },
  {
   "cell_type": "code",
   "execution_count": 197,
   "id": "55fcb04f",
   "metadata": {},
   "outputs": [
    {
     "data": {
      "text/plain": [
       "(array([19312. , 19312.5, 19313. , 19313.5, 19314. , 19314.5]),\n",
       " [Text(19312.0, 0, '11-16 00'),\n",
       "  Text(19312.5, 0, '11-16 12'),\n",
       "  Text(19313.0, 0, '11-17 00'),\n",
       "  Text(19313.5, 0, '11-17 12'),\n",
       "  Text(19314.0, 0, '11-18 00'),\n",
       "  Text(19314.5, 0, '11-18 12')])"
      ]
     },
     "execution_count": 197,
     "metadata": {},
     "output_type": "execute_result"
    },
    {
     "data": {
      "image/png": "[encoded data removed]",
      "text/plain": [
       "<Figure size 640x480 with 1 Axes>"
      ]
     },
     "metadata": {},
     "output_type": "display_data"
    }
   ],
   "source": [
    "plt.plot(df_481_1115_1118_filtered.index, df_481_1115_1118_filtered[\"Value\"])\n",
    "plt.xticks(rotation=90)"
   ]
  },
  {
   "cell_type": "code",
   "execution_count": 182,
   "id": "407f8b79",
   "metadata": {},
   "outputs": [
    {
     "data": {
      "text/html": [
       "<div>\n",
       "<style scoped>\n",
       "    .dataframe tbody tr th:only-of-type {\n",
       "        vertical-align: middle;\n",
       "    }\n",
       "\n",
       "    .dataframe tbody tr th {\n",
       "        vertical-align: top;\n",
       "    }\n",
       "\n",
       "    .dataframe thead th {\n",
       "        text-align: right;\n",
       "    }\n",
       "</style>\n",
       "<table border=\"1\" class=\"dataframe\">\n",
       "  <thead>\n",
       "    <tr style=\"text-align: right;\">\n",
       "      <th></th>\n",
       "      <th>ID</th>\n",
       "      <th>Value</th>\n",
       "      <th>Quality</th>\n",
       "    </tr>\n",
       "    <tr>\n",
       "      <th>Timestamp</th>\n",
       "      <th></th>\n",
       "      <th></th>\n",
       "      <th></th>\n",
       "    </tr>\n",
       "  </thead>\n",
       "  <tbody>\n",
       "    <tr>\n",
       "      <th>2022-11-29 20:00:00</th>\n",
       "      <td>481.0</td>\n",
       "      <td>698.90</td>\n",
       "      <td>1.0</td>\n",
       "    </tr>\n",
       "    <tr>\n",
       "      <th>2022-11-29 20:05:00</th>\n",
       "      <td>481.0</td>\n",
       "      <td>679.70</td>\n",
       "      <td>1.0</td>\n",
       "    </tr>\n",
       "    <tr>\n",
       "      <th>2022-11-29 20:10:00</th>\n",
       "      <td>481.0</td>\n",
       "      <td>684.35</td>\n",
       "      <td>1.0</td>\n",
       "    </tr>\n",
       "    <tr>\n",
       "      <th>2022-11-29 20:15:00</th>\n",
       "      <td>481.0</td>\n",
       "      <td>683.70</td>\n",
       "      <td>1.0</td>\n",
       "    </tr>\n",
       "    <tr>\n",
       "      <th>2022-11-29 20:20:00</th>\n",
       "      <td>481.0</td>\n",
       "      <td>683.05</td>\n",
       "      <td>1.0</td>\n",
       "    </tr>\n",
       "    <tr>\n",
       "      <th>...</th>\n",
       "      <td>...</td>\n",
       "      <td>...</td>\n",
       "      <td>...</td>\n",
       "    </tr>\n",
       "    <tr>\n",
       "      <th>2022-12-02 15:35:00</th>\n",
       "      <td>481.0</td>\n",
       "      <td>677.30</td>\n",
       "      <td>1.0</td>\n",
       "    </tr>\n",
       "    <tr>\n",
       "      <th>2022-12-02 15:40:00</th>\n",
       "      <td>481.0</td>\n",
       "      <td>677.20</td>\n",
       "      <td>1.0</td>\n",
       "    </tr>\n",
       "    <tr>\n",
       "      <th>2022-12-02 15:45:00</th>\n",
       "      <td>481.0</td>\n",
       "      <td>676.75</td>\n",
       "      <td>1.0</td>\n",
       "    </tr>\n",
       "    <tr>\n",
       "      <th>2022-12-02 15:50:00</th>\n",
       "      <td>481.0</td>\n",
       "      <td>676.30</td>\n",
       "      <td>1.0</td>\n",
       "    </tr>\n",
       "    <tr>\n",
       "      <th>2022-12-02 15:55:00</th>\n",
       "      <td>481.0</td>\n",
       "      <td>675.40</td>\n",
       "      <td>1.0</td>\n",
       "    </tr>\n",
       "  </tbody>\n",
       "</table>\n",
       "<p>775 rows × 3 columns</p>\n",
       "</div>"
      ],
      "text/plain": [
       "                        ID   Value  Quality\n",
       "Timestamp                                  \n",
       "2022-11-29 20:00:00  481.0  698.90      1.0\n",
       "2022-11-29 20:05:00  481.0  679.70      1.0\n",
       "2022-11-29 20:10:00  481.0  684.35      1.0\n",
       "2022-11-29 20:15:00  481.0  683.70      1.0\n",
       "2022-11-29 20:20:00  481.0  683.05      1.0\n",
       "...                    ...     ...      ...\n",
       "2022-12-02 15:35:00  481.0  677.30      1.0\n",
       "2022-12-02 15:40:00  481.0  677.20      1.0\n",
       "2022-12-02 15:45:00  481.0  676.75      1.0\n",
       "2022-12-02 15:50:00  481.0  676.30      1.0\n",
       "2022-12-02 15:55:00  481.0  675.40      1.0\n",
       "\n",
       "[775 rows x 3 columns]"
      ]
     },
     "execution_count": 182,
     "metadata": {},
     "output_type": "execute_result"
    }
   ],
   "source": [
    "df_481_1129_1202_filtered = df_481_1129_1202[(df_481_1129_1202[\"Value\"] < df_481_1129_1202_mean+20) & (df_481_1129_1202[\"Value\"] > df_481_1129_1202_mean-20)]\n",
    "df_481_1129_1202_filtered"
   ]
  },
  {
   "cell_type": "code",
   "execution_count": 183,
   "id": "46da3c62",
   "metadata": {},
   "outputs": [
    {
     "data": {
      "text/plain": [
       "(array([19326. , 19326.5, 19327. , 19327.5, 19328. , 19328.5]),\n",
       " [Text(19326.0, 0, '11-30 00'),\n",
       "  Text(19326.5, 0, '11-30 12'),\n",
       "  Text(19327.0, 0, '12-01 00'),\n",
       "  Text(19327.5, 0, '12-01 12'),\n",
       "  Text(19328.0, 0, '12-02 00'),\n",
       "  Text(19328.5, 0, '12-02 12')])"
      ]
     },
     "execution_count": 183,
     "metadata": {},
     "output_type": "execute_result"
    },
    {
     "data": {
      "image/png": "[encoded data removed]",
      "text/plain": [
       "<Figure size 640x480 with 1 Axes>"
      ]
     },
     "metadata": {},
     "output_type": "display_data"
    }
   ],
   "source": [
    "plt.plot(df_481_1129_1202_filtered.index, df_481_1129_1202_filtered[\"Value\"])\n",
    "plt.xticks(rotation=90)"
   ]
  },
  {
   "cell_type": "code",
   "execution_count": 201,
   "id": "a3534b2f",
   "metadata": {},
   "outputs": [],
   "source": [
    "df_481_1219_1223_filtered = df_481_1219_1223[(df_481_1219_1223[\"Value\"] < df_481_1219_1223_mean+20) & (df_481_1219_1223[\"Value\"] > df_481_1219_1223_mean-20)]"
   ]
  },
  {
   "cell_type": "code",
   "execution_count": 202,
   "id": "8a71a250",
   "metadata": {},
   "outputs": [
    {
     "data": {
      "text/plain": [
       "<matplotlib.legend.Legend at 0x7feb26e8cd90>"
      ]
     },
     "execution_count": 202,
     "metadata": {},
     "output_type": "execute_result"
    },
    {
     "data": {
      "image/png": "[encoded data removed]",
      "text/plain": [
       "<Figure size 640x480 with 1 Axes>"
      ]
     },
     "metadata": {},
     "output_type": "display_data"
    }
   ],
   "source": [
    "plt.plot(np.arange(0, len(df_481_1017_1021_filtered),1), df_481_1017_1021_filtered[\"Value\"], label=\"1017-1021\")\n",
    "plt.plot(np.arange(0, len(df_481_1115_1118_filtered),1), df_481_1115_1118_filtered[\"Value\"], label=\"1115-1118\")\n",
    "plt.plot(np.arange(0, len(df_481_1129_1202_filtered),1), df_481_1129_1202_filtered[\"Value\"], label=\"1129-1202\")\n",
    "plt.plot(np.arange(0, len(df_481_1219_1223_filtered),1), df_481_1219_1223_filtered[\"Value\"], label=\"1219-1223\")\n",
    "plt.legend()"
   ]
  },
  {
   "cell_type": "code",
   "execution_count": 168,
   "id": "07b012df",
   "metadata": {},
   "outputs": [],
   "source": [
    "# lets "
   ]
  }
 ],
 "metadata": {
  "kernelspec": {
   "display_name": "Python 3 (ipykernel)",
   "language": "python",
   "name": "python3"
  },
  "language_info": {
   "codemirror_mode": {
    "name": "ipython",
    "version": 3
   },
   "file_extension": ".py",
   "mimetype": "text/x-python",
   "name": "python",
   "nbconvert_exporter": "python",
   "pygments_lexer": "ipython3",
   "version": "3.10.0"
  }
 },
 "nbformat": 4,
 "nbformat_minor": 5
}
